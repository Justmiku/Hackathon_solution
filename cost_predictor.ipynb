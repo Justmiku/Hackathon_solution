{
 "cells": [
  {
   "cell_type": "markdown",
   "metadata": {},
   "source": [
    "## This Notebook contains the code of the project, Which was basically a hackathon hosted on Machinehack.com. In this Hackathon the participants have to devlop a machine learning model which can predict the cost of used cars on the basis of features provided.\n",
    "\n",
    "##  It was 1 month long challange and the  the higher score corresponds to a better rank on the leaderboard."
   ]
  },
  {
   "cell_type": "markdown",
   "metadata": {},
   "source": [
    "![alt text](https://www.machinehack.com/wp-content/uploads/2019/05/Predicting-The-Costs-Of-Used-Cars-Hackathon-By-Imarticus-1-1-768x432.jpg)"
   ]
  },
  {
   "cell_type": "markdown",
   "metadata": {},
   "source": [
    "---"
   ]
  },
  {
   "cell_type": "markdown",
   "metadata": {},
   "source": [
    "## Following was the format of the provided data."
   ]
  },
  {
   "cell_type": "markdown",
   "metadata": {},
   "source": [
    "Size of training set: 6,019 records\n",
    "\n",
    "Size of test set: 1,234 records\n",
    "\n",
    "FEATURES:\n",
    "\n",
    "Name: The brand and model of the car.\n",
    "\n",
    "Location: The location in which the car is being sold or is available for purchase.\n",
    "\n",
    "Year: The year or edition of the model.\n",
    "\n",
    "Kilometers_Driven: The total kilometres driven in the car by the previous owner(s) in KM.\n",
    "\n",
    "Fuel_Type: The type of fuel used by the car.\n",
    "\n",
    "Transmission: The type of transmission used by the car.\n",
    "\n",
    "Owner_Type: Whether the ownership is Firsthand, Second hand or other.\n",
    "\n",
    "Mileage: The standard mileage offered by the car company in kmpl or km/kg\n",
    "\n",
    "Engine: The displacement volume of the engine in cc.\n",
    "\n",
    "Power: The maximum power of the engine in bhp.\n",
    "\n",
    "Seats: The number of seats in the car.\n",
    "\n",
    "New_Price: The price of a new car of the same model.\n",
    "\n",
    "Price: The price of the used car in INR Lakhs."
   ]
  },
  {
   "cell_type": "markdown",
   "metadata": {},
   "source": [
    "-----"
   ]
  },
  {
   "cell_type": "markdown",
   "metadata": {},
   "source": [
    "----"
   ]
  },
  {
   "cell_type": "markdown",
   "metadata": {},
   "source": [
    "### Price was the target variable which was essentially the cost of the car in lakh."
   ]
  },
  {
   "cell_type": "markdown",
   "metadata": {},
   "source": [
    "### The evaluation metric was RMSLE.\n",
    "Metric\n",
    "Submissions are evaluated on Root-Mean-Squared-Error (RMSE) between the predicted value and observed score values. The final score calculation is done in the following way:\n",
    "\n",
    "Submissions are evaluated on Root-Mean-Squared-Log-Error (RMSLE) error = RMSLE (error)\n",
    "\n",
    "Score = 1 – error"
   ]
  },
  {
   "cell_type": "markdown",
   "metadata": {},
   "source": [
    "#### Let's have a look at the data provided."
   ]
  },
  {
   "cell_type": "code",
   "execution_count": null,
   "metadata": {},
   "outputs": [],
   "source": []
  },
  {
   "cell_type": "code",
   "execution_count": 1,
   "metadata": {},
   "outputs": [],
   "source": [
    "# importing dependency.\n",
    "import pandas as pd\n",
    "import matplotlib.pyplot as plt\n",
    "import numpy as np\n",
    "import seaborn as sns"
   ]
  },
  {
   "cell_type": "code",
   "execution_count": 3,
   "metadata": {},
   "outputs": [],
   "source": [
    "#loading the training set.\n",
    "train_data=pd.read_excel('Data_Train.xlsx')"
   ]
  },
  {
   "cell_type": "code",
   "execution_count": 4,
   "metadata": {},
   "outputs": [
    {
     "data": {
      "text/html": [
       "<div>\n",
       "<style scoped>\n",
       "    .dataframe tbody tr th:only-of-type {\n",
       "        vertical-align: middle;\n",
       "    }\n",
       "\n",
       "    .dataframe tbody tr th {\n",
       "        vertical-align: top;\n",
       "    }\n",
       "\n",
       "    .dataframe thead th {\n",
       "        text-align: right;\n",
       "    }\n",
       "</style>\n",
       "<table border=\"1\" class=\"dataframe\">\n",
       "  <thead>\n",
       "    <tr style=\"text-align: right;\">\n",
       "      <th></th>\n",
       "      <th>Name</th>\n",
       "      <th>Location</th>\n",
       "      <th>Year</th>\n",
       "      <th>Kilometers_Driven</th>\n",
       "      <th>Fuel_Type</th>\n",
       "      <th>Transmission</th>\n",
       "      <th>Owner_Type</th>\n",
       "      <th>Mileage</th>\n",
       "      <th>Engine</th>\n",
       "      <th>Power</th>\n",
       "      <th>Seats</th>\n",
       "      <th>New_Price</th>\n",
       "      <th>Price</th>\n",
       "    </tr>\n",
       "  </thead>\n",
       "  <tbody>\n",
       "    <tr>\n",
       "      <th>0</th>\n",
       "      <td>Maruti Wagon R LXI CNG</td>\n",
       "      <td>Mumbai</td>\n",
       "      <td>2010</td>\n",
       "      <td>72000</td>\n",
       "      <td>CNG</td>\n",
       "      <td>Manual</td>\n",
       "      <td>First</td>\n",
       "      <td>26.6 km/kg</td>\n",
       "      <td>998 CC</td>\n",
       "      <td>58.16 bhp</td>\n",
       "      <td>5.0</td>\n",
       "      <td>NaN</td>\n",
       "      <td>1.75</td>\n",
       "    </tr>\n",
       "    <tr>\n",
       "      <th>1</th>\n",
       "      <td>Hyundai Creta 1.6 CRDi SX Option</td>\n",
       "      <td>Pune</td>\n",
       "      <td>2015</td>\n",
       "      <td>41000</td>\n",
       "      <td>Diesel</td>\n",
       "      <td>Manual</td>\n",
       "      <td>First</td>\n",
       "      <td>19.67 kmpl</td>\n",
       "      <td>1582 CC</td>\n",
       "      <td>126.2 bhp</td>\n",
       "      <td>5.0</td>\n",
       "      <td>NaN</td>\n",
       "      <td>12.50</td>\n",
       "    </tr>\n",
       "    <tr>\n",
       "      <th>2</th>\n",
       "      <td>Honda Jazz V</td>\n",
       "      <td>Chennai</td>\n",
       "      <td>2011</td>\n",
       "      <td>46000</td>\n",
       "      <td>Petrol</td>\n",
       "      <td>Manual</td>\n",
       "      <td>First</td>\n",
       "      <td>18.2 kmpl</td>\n",
       "      <td>1199 CC</td>\n",
       "      <td>88.7 bhp</td>\n",
       "      <td>5.0</td>\n",
       "      <td>8.61 Lakh</td>\n",
       "      <td>4.50</td>\n",
       "    </tr>\n",
       "    <tr>\n",
       "      <th>3</th>\n",
       "      <td>Maruti Ertiga VDI</td>\n",
       "      <td>Chennai</td>\n",
       "      <td>2012</td>\n",
       "      <td>87000</td>\n",
       "      <td>Diesel</td>\n",
       "      <td>Manual</td>\n",
       "      <td>First</td>\n",
       "      <td>20.77 kmpl</td>\n",
       "      <td>1248 CC</td>\n",
       "      <td>88.76 bhp</td>\n",
       "      <td>7.0</td>\n",
       "      <td>NaN</td>\n",
       "      <td>6.00</td>\n",
       "    </tr>\n",
       "    <tr>\n",
       "      <th>4</th>\n",
       "      <td>Audi A4 New 2.0 TDI Multitronic</td>\n",
       "      <td>Coimbatore</td>\n",
       "      <td>2013</td>\n",
       "      <td>40670</td>\n",
       "      <td>Diesel</td>\n",
       "      <td>Automatic</td>\n",
       "      <td>Second</td>\n",
       "      <td>15.2 kmpl</td>\n",
       "      <td>1968 CC</td>\n",
       "      <td>140.8 bhp</td>\n",
       "      <td>5.0</td>\n",
       "      <td>NaN</td>\n",
       "      <td>17.74</td>\n",
       "    </tr>\n",
       "  </tbody>\n",
       "</table>\n",
       "</div>"
      ],
      "text/plain": [
       "                               Name    Location  Year  Kilometers_Driven  \\\n",
       "0            Maruti Wagon R LXI CNG      Mumbai  2010              72000   \n",
       "1  Hyundai Creta 1.6 CRDi SX Option        Pune  2015              41000   \n",
       "2                      Honda Jazz V     Chennai  2011              46000   \n",
       "3                 Maruti Ertiga VDI     Chennai  2012              87000   \n",
       "4   Audi A4 New 2.0 TDI Multitronic  Coimbatore  2013              40670   \n",
       "\n",
       "  Fuel_Type Transmission Owner_Type     Mileage   Engine      Power  Seats  \\\n",
       "0       CNG       Manual      First  26.6 km/kg   998 CC  58.16 bhp    5.0   \n",
       "1    Diesel       Manual      First  19.67 kmpl  1582 CC  126.2 bhp    5.0   \n",
       "2    Petrol       Manual      First   18.2 kmpl  1199 CC   88.7 bhp    5.0   \n",
       "3    Diesel       Manual      First  20.77 kmpl  1248 CC  88.76 bhp    7.0   \n",
       "4    Diesel    Automatic     Second   15.2 kmpl  1968 CC  140.8 bhp    5.0   \n",
       "\n",
       "   New_Price  Price  \n",
       "0        NaN   1.75  \n",
       "1        NaN  12.50  \n",
       "2  8.61 Lakh   4.50  \n",
       "3        NaN   6.00  \n",
       "4        NaN  17.74  "
      ]
     },
     "execution_count": 4,
     "metadata": {},
     "output_type": "execute_result"
    }
   ],
   "source": [
    "## First five rows of the provided data.\n",
    "train_data.head()"
   ]
  },
  {
   "cell_type": "markdown",
   "metadata": {},
   "source": [
    "***The name,location,fuel_ Type,Transmission,owner_type are text feature***\n",
    "\n",
    "***Price is the target variable***\n",
    "\n",
    "***Seats,kilometer and year are numerical features***"
   ]
  },
  {
   "cell_type": "markdown",
   "metadata": {},
   "source": [
    "---\n",
    "---"
   ]
  },
  {
   "cell_type": "markdown",
   "metadata": {},
   "source": [
    "#### Let's check for null values."
   ]
  },
  {
   "cell_type": "code",
   "execution_count": 9,
   "metadata": {},
   "outputs": [
    {
     "data": {
      "text/html": [
       "<div>\n",
       "<style scoped>\n",
       "    .dataframe tbody tr th:only-of-type {\n",
       "        vertical-align: middle;\n",
       "    }\n",
       "\n",
       "    .dataframe tbody tr th {\n",
       "        vertical-align: top;\n",
       "    }\n",
       "\n",
       "    .dataframe thead th {\n",
       "        text-align: right;\n",
       "    }\n",
       "</style>\n",
       "<table border=\"1\" class=\"dataframe\">\n",
       "  <thead>\n",
       "    <tr style=\"text-align: right;\">\n",
       "      <th></th>\n",
       "      <th>Missing Percentage</th>\n",
       "    </tr>\n",
       "  </thead>\n",
       "  <tbody>\n",
       "    <tr>\n",
       "      <th>New_Price</th>\n",
       "      <td>86.310018</td>\n",
       "    </tr>\n",
       "    <tr>\n",
       "      <th>Seats</th>\n",
       "      <td>0.697790</td>\n",
       "    </tr>\n",
       "    <tr>\n",
       "      <th>Power</th>\n",
       "      <td>0.598106</td>\n",
       "    </tr>\n",
       "    <tr>\n",
       "      <th>Engine</th>\n",
       "      <td>0.598106</td>\n",
       "    </tr>\n",
       "    <tr>\n",
       "      <th>Mileage</th>\n",
       "      <td>0.033228</td>\n",
       "    </tr>\n",
       "  </tbody>\n",
       "</table>\n",
       "</div>"
      ],
      "text/plain": [
       "           Missing Percentage\n",
       "New_Price           86.310018\n",
       "Seats                0.697790\n",
       "Power                0.598106\n",
       "Engine               0.598106\n",
       "Mileage              0.033228"
      ]
     },
     "execution_count": 9,
     "metadata": {},
     "output_type": "execute_result"
    }
   ],
   "source": [
    "# Getting a missing % count\n",
    "all_data_missing = (train_data.isnull().sum() / len(train_data)) * 100\n",
    "all_data_missing = all_data_missing.drop(all_data_missing[all_data_missing == 0].index).sort_values(ascending=False)\n",
    "missing_data = pd.DataFrame({'Missing Percentage':all_data_missing})\n",
    "missing_data.head(30)"
   ]
  },
  {
   "cell_type": "markdown",
   "metadata": {},
   "source": [
    "***As we can see that 5 features have a missing values .So they must be imputed with a suitable value***"
   ]
  },
  {
   "cell_type": "markdown",
   "metadata": {},
   "source": [
    "----\n",
    "----\n",
    "----"
   ]
  },
  {
   "cell_type": "markdown",
   "metadata": {},
   "source": [
    "#### Let's load the provided test data and analyse it a little bit."
   ]
  },
  {
   "cell_type": "code",
   "execution_count": 10,
   "metadata": {},
   "outputs": [],
   "source": [
    "#loading the provided test data.\n",
    "test_data=pd.read_excel('Data_Test.xlsx')"
   ]
  },
  {
   "cell_type": "code",
   "execution_count": 12,
   "metadata": {},
   "outputs": [
    {
     "data": {
      "text/html": [
       "<div>\n",
       "<style scoped>\n",
       "    .dataframe tbody tr th:only-of-type {\n",
       "        vertical-align: middle;\n",
       "    }\n",
       "\n",
       "    .dataframe tbody tr th {\n",
       "        vertical-align: top;\n",
       "    }\n",
       "\n",
       "    .dataframe thead th {\n",
       "        text-align: right;\n",
       "    }\n",
       "</style>\n",
       "<table border=\"1\" class=\"dataframe\">\n",
       "  <thead>\n",
       "    <tr style=\"text-align: right;\">\n",
       "      <th></th>\n",
       "      <th>Name</th>\n",
       "      <th>Location</th>\n",
       "      <th>Year</th>\n",
       "      <th>Kilometers_Driven</th>\n",
       "      <th>Fuel_Type</th>\n",
       "      <th>Transmission</th>\n",
       "      <th>Owner_Type</th>\n",
       "      <th>Mileage</th>\n",
       "      <th>Engine</th>\n",
       "      <th>Power</th>\n",
       "      <th>Seats</th>\n",
       "      <th>New_Price</th>\n",
       "    </tr>\n",
       "  </thead>\n",
       "  <tbody>\n",
       "    <tr>\n",
       "      <th>0</th>\n",
       "      <td>Maruti Alto K10 LXI CNG</td>\n",
       "      <td>Delhi</td>\n",
       "      <td>2014</td>\n",
       "      <td>40929</td>\n",
       "      <td>CNG</td>\n",
       "      <td>Manual</td>\n",
       "      <td>First</td>\n",
       "      <td>32.26 km/kg</td>\n",
       "      <td>998 CC</td>\n",
       "      <td>58.2 bhp</td>\n",
       "      <td>4.0</td>\n",
       "      <td>NaN</td>\n",
       "    </tr>\n",
       "    <tr>\n",
       "      <th>1</th>\n",
       "      <td>Maruti Alto 800 2016-2019 LXI</td>\n",
       "      <td>Coimbatore</td>\n",
       "      <td>2013</td>\n",
       "      <td>54493</td>\n",
       "      <td>Petrol</td>\n",
       "      <td>Manual</td>\n",
       "      <td>Second</td>\n",
       "      <td>24.7 kmpl</td>\n",
       "      <td>796 CC</td>\n",
       "      <td>47.3 bhp</td>\n",
       "      <td>5.0</td>\n",
       "      <td>NaN</td>\n",
       "    </tr>\n",
       "    <tr>\n",
       "      <th>2</th>\n",
       "      <td>Toyota Innova Crysta Touring Sport 2.4 MT</td>\n",
       "      <td>Mumbai</td>\n",
       "      <td>2017</td>\n",
       "      <td>34000</td>\n",
       "      <td>Diesel</td>\n",
       "      <td>Manual</td>\n",
       "      <td>First</td>\n",
       "      <td>13.68 kmpl</td>\n",
       "      <td>2393 CC</td>\n",
       "      <td>147.8 bhp</td>\n",
       "      <td>7.0</td>\n",
       "      <td>25.27 Lakh</td>\n",
       "    </tr>\n",
       "    <tr>\n",
       "      <th>3</th>\n",
       "      <td>Toyota Etios Liva GD</td>\n",
       "      <td>Hyderabad</td>\n",
       "      <td>2012</td>\n",
       "      <td>139000</td>\n",
       "      <td>Diesel</td>\n",
       "      <td>Manual</td>\n",
       "      <td>First</td>\n",
       "      <td>23.59 kmpl</td>\n",
       "      <td>1364 CC</td>\n",
       "      <td>null bhp</td>\n",
       "      <td>5.0</td>\n",
       "      <td>NaN</td>\n",
       "    </tr>\n",
       "    <tr>\n",
       "      <th>4</th>\n",
       "      <td>Hyundai i20 Magna</td>\n",
       "      <td>Mumbai</td>\n",
       "      <td>2014</td>\n",
       "      <td>29000</td>\n",
       "      <td>Petrol</td>\n",
       "      <td>Manual</td>\n",
       "      <td>First</td>\n",
       "      <td>18.5 kmpl</td>\n",
       "      <td>1197 CC</td>\n",
       "      <td>82.85 bhp</td>\n",
       "      <td>5.0</td>\n",
       "      <td>NaN</td>\n",
       "    </tr>\n",
       "  </tbody>\n",
       "</table>\n",
       "</div>"
      ],
      "text/plain": [
       "                                        Name    Location  Year  \\\n",
       "0                    Maruti Alto K10 LXI CNG       Delhi  2014   \n",
       "1              Maruti Alto 800 2016-2019 LXI  Coimbatore  2013   \n",
       "2  Toyota Innova Crysta Touring Sport 2.4 MT      Mumbai  2017   \n",
       "3                       Toyota Etios Liva GD   Hyderabad  2012   \n",
       "4                          Hyundai i20 Magna      Mumbai  2014   \n",
       "\n",
       "   Kilometers_Driven Fuel_Type Transmission Owner_Type      Mileage   Engine  \\\n",
       "0              40929       CNG       Manual      First  32.26 km/kg   998 CC   \n",
       "1              54493    Petrol       Manual     Second    24.7 kmpl   796 CC   \n",
       "2              34000    Diesel       Manual      First   13.68 kmpl  2393 CC   \n",
       "3             139000    Diesel       Manual      First   23.59 kmpl  1364 CC   \n",
       "4              29000    Petrol       Manual      First    18.5 kmpl  1197 CC   \n",
       "\n",
       "       Power  Seats   New_Price  \n",
       "0   58.2 bhp    4.0         NaN  \n",
       "1   47.3 bhp    5.0         NaN  \n",
       "2  147.8 bhp    7.0  25.27 Lakh  \n",
       "3   null bhp    5.0         NaN  \n",
       "4  82.85 bhp    5.0         NaN  "
      ]
     },
     "execution_count": 12,
     "metadata": {},
     "output_type": "execute_result"
    }
   ],
   "source": [
    "#first five rows of the test set.\n",
    "test_data.head()"
   ]
  },
  {
   "cell_type": "markdown",
   "metadata": {},
   "source": [
    "#### The test data looks pretty much of same format as train set only difference is that it has price feature missing ,which is to be predicted."
   ]
  },
  {
   "cell_type": "code",
   "execution_count": 13,
   "metadata": {},
   "outputs": [
    {
     "data": {
      "text/html": [
       "<div>\n",
       "<style scoped>\n",
       "    .dataframe tbody tr th:only-of-type {\n",
       "        vertical-align: middle;\n",
       "    }\n",
       "\n",
       "    .dataframe tbody tr th {\n",
       "        vertical-align: top;\n",
       "    }\n",
       "\n",
       "    .dataframe thead th {\n",
       "        text-align: right;\n",
       "    }\n",
       "</style>\n",
       "<table border=\"1\" class=\"dataframe\">\n",
       "  <thead>\n",
       "    <tr style=\"text-align: right;\">\n",
       "      <th></th>\n",
       "      <th>Missing Percentage</th>\n",
       "    </tr>\n",
       "  </thead>\n",
       "  <tbody>\n",
       "    <tr>\n",
       "      <th>New_Price</th>\n",
       "      <td>85.251216</td>\n",
       "    </tr>\n",
       "    <tr>\n",
       "      <th>Seats</th>\n",
       "      <td>0.891410</td>\n",
       "    </tr>\n",
       "    <tr>\n",
       "      <th>Power</th>\n",
       "      <td>0.810373</td>\n",
       "    </tr>\n",
       "    <tr>\n",
       "      <th>Engine</th>\n",
       "      <td>0.810373</td>\n",
       "    </tr>\n",
       "  </tbody>\n",
       "</table>\n",
       "</div>"
      ],
      "text/plain": [
       "           Missing Percentage\n",
       "New_Price           85.251216\n",
       "Seats                0.891410\n",
       "Power                0.810373\n",
       "Engine               0.810373"
      ]
     },
     "execution_count": 13,
     "metadata": {},
     "output_type": "execute_result"
    }
   ],
   "source": [
    "#Missing values in test set\n",
    "# Getting a missing % count\n",
    "all_data_missing = (test_data.isnull().sum() / len(test_data)) * 100\n",
    "all_data_missing = all_data_missing.drop(all_data_missing[all_data_missing == 0].index).sort_values(ascending=False)\n",
    "missing_data = pd.DataFrame({'Missing Percentage':all_data_missing})\n",
    "missing_data.head(30)"
   ]
  },
  {
   "cell_type": "markdown",
   "metadata": {},
   "source": [
    "#### This shows the percentage of missing values present in different column in test set."
   ]
  },
  {
   "cell_type": "markdown",
   "metadata": {},
   "source": [
    "----\n",
    "----\n",
    "----"
   ]
  },
  {
   "cell_type": "markdown",
   "metadata": {},
   "source": [
    "## ***It is quite obvious from the upper discussion that both train and test set needs a lot of preprocessing before feeding them to machine learning models and deriving the results.***"
   ]
  },
  {
   "cell_type": "markdown",
   "metadata": {},
   "source": [
    "### Now I will discuss all the data preprocessing steps I took to make the data suitable for fitting to a ML model.\n",
    "\n",
    "### I'll also discuss the crucial features that I generated in order to make the model strong enough to give  better results."
   ]
  },
  {
   "cell_type": "markdown",
   "metadata": {},
   "source": [
    "## *** Let's start.***"
   ]
  },
  {
   "cell_type": "markdown",
   "metadata": {},
   "source": [
    "* First task is to replace NULL values from various columns with suitable values.\n",
    "\n",
    "* secondly the categorical test features such as transmission, owner_type must to encoded suitably because ml model expects numerical values to show their magic(except newly launched cat boost library).\n",
    "\n",
    "* Some features like power,engine and mileage are combination of numbers and text , so the next work will be to seperate the numerical value from text.\n",
    "\n",
    "***There are many more preprocessing steps involved but start with this first***"
   ]
  },
  {
   "cell_type": "markdown",
   "metadata": {},
   "source": [
    "### Time for some feature genation."
   ]
  },
  {
   "cell_type": "markdown",
   "metadata": {},
   "source": [
    ">* If we will closely look at the name feature which contains text data, basically it contains the name and model of the car being sold.\n",
    "\n",
    "> * On observing this feature we can be sure that it contains very important information which might be very useful because a BMW with most of the features same as marutiSuzuki will have a higher price.\n",
    "\n",
    "> * The New_Price feature has maximum values as null.After a little bit of reserch it comes out that it was because that paritcular model of the car is now not being made by the company.so we can generate a new feature named is_available, it will have value as 1 if the New_price will have non null value otherwise it will contain zero."
   ]
  },
  {
   "cell_type": "markdown",
   "metadata": {},
   "source": [
    "## *After applying all the above proposed technique the transformed data frame will look something like this.*"
   ]
  },
  {
   "cell_type": "code",
   "execution_count": 65,
   "metadata": {
    "scrolled": false
   },
   "outputs": [
    {
     "data": {
      "text/html": [
       "<div>\n",
       "<style scoped>\n",
       "    .dataframe tbody tr th:only-of-type {\n",
       "        vertical-align: middle;\n",
       "    }\n",
       "\n",
       "    .dataframe tbody tr th {\n",
       "        vertical-align: top;\n",
       "    }\n",
       "\n",
       "    .dataframe thead th {\n",
       "        text-align: right;\n",
       "    }\n",
       "</style>\n",
       "<table border=\"1\" class=\"dataframe\">\n",
       "  <thead>\n",
       "    <tr style=\"text-align: right;\">\n",
       "      <th></th>\n",
       "      <th>Location</th>\n",
       "      <th>Year</th>\n",
       "      <th>Kilometers_Driven</th>\n",
       "      <th>Fuel_Type</th>\n",
       "      <th>Transmission</th>\n",
       "      <th>Owner_Type</th>\n",
       "      <th>Seats</th>\n",
       "      <th>company</th>\n",
       "      <th>model</th>\n",
       "      <th>has_expired</th>\n",
       "      <th>mileage</th>\n",
       "      <th>engine</th>\n",
       "      <th>power</th>\n",
       "    </tr>\n",
       "  </thead>\n",
       "  <tbody>\n",
       "    <tr>\n",
       "      <th>0</th>\n",
       "      <td>9</td>\n",
       "      <td>2010</td>\n",
       "      <td>72000</td>\n",
       "      <td>0</td>\n",
       "      <td>1</td>\n",
       "      <td>0</td>\n",
       "      <td>5.0</td>\n",
       "      <td>19</td>\n",
       "      <td>130</td>\n",
       "      <td>1</td>\n",
       "      <td>26.60</td>\n",
       "      <td>998</td>\n",
       "      <td>58.16</td>\n",
       "    </tr>\n",
       "    <tr>\n",
       "      <th>1</th>\n",
       "      <td>10</td>\n",
       "      <td>2015</td>\n",
       "      <td>41000</td>\n",
       "      <td>1</td>\n",
       "      <td>1</td>\n",
       "      <td>0</td>\n",
       "      <td>5.0</td>\n",
       "      <td>11</td>\n",
       "      <td>68</td>\n",
       "      <td>1</td>\n",
       "      <td>19.67</td>\n",
       "      <td>1582</td>\n",
       "      <td>126.20</td>\n",
       "    </tr>\n",
       "    <tr>\n",
       "      <th>2</th>\n",
       "      <td>2</td>\n",
       "      <td>2011</td>\n",
       "      <td>46000</td>\n",
       "      <td>4</td>\n",
       "      <td>1</td>\n",
       "      <td>0</td>\n",
       "      <td>5.0</td>\n",
       "      <td>10</td>\n",
       "      <td>63</td>\n",
       "      <td>0</td>\n",
       "      <td>18.20</td>\n",
       "      <td>1199</td>\n",
       "      <td>88.70</td>\n",
       "    </tr>\n",
       "    <tr>\n",
       "      <th>3</th>\n",
       "      <td>2</td>\n",
       "      <td>2012</td>\n",
       "      <td>87000</td>\n",
       "      <td>1</td>\n",
       "      <td>1</td>\n",
       "      <td>0</td>\n",
       "      <td>7.0</td>\n",
       "      <td>19</td>\n",
       "      <td>117</td>\n",
       "      <td>1</td>\n",
       "      <td>20.77</td>\n",
       "      <td>1248</td>\n",
       "      <td>88.76</td>\n",
       "    </tr>\n",
       "    <tr>\n",
       "      <th>4</th>\n",
       "      <td>3</td>\n",
       "      <td>2013</td>\n",
       "      <td>40670</td>\n",
       "      <td>1</td>\n",
       "      <td>0</td>\n",
       "      <td>2</td>\n",
       "      <td>5.0</td>\n",
       "      <td>1</td>\n",
       "      <td>2</td>\n",
       "      <td>1</td>\n",
       "      <td>15.20</td>\n",
       "      <td>1968</td>\n",
       "      <td>140.80</td>\n",
       "    </tr>\n",
       "  </tbody>\n",
       "</table>\n",
       "</div>"
      ],
      "text/plain": [
       "   Location  Year  Kilometers_Driven  Fuel_Type  Transmission  Owner_Type  \\\n",
       "0         9  2010              72000          0             1           0   \n",
       "1        10  2015              41000          1             1           0   \n",
       "2         2  2011              46000          4             1           0   \n",
       "3         2  2012              87000          1             1           0   \n",
       "4         3  2013              40670          1             0           2   \n",
       "\n",
       "   Seats  company  model  has_expired  mileage  engine   power  \n",
       "0    5.0       19    130            1    26.60     998   58.16  \n",
       "1    5.0       11     68            1    19.67    1582  126.20  \n",
       "2    5.0       10     63            0    18.20    1199   88.70  \n",
       "3    7.0       19    117            1    20.77    1248   88.76  \n",
       "4    5.0        1      2            1    15.20    1968  140.80  "
      ]
     },
     "execution_count": 65,
     "metadata": {},
     "output_type": "execute_result"
    }
   ],
   "source": [
    "all_data=pd.read_csv('final_train_test.csv')\n",
    "all_data.head()"
   ]
  },
  {
   "cell_type": "code",
   "execution_count": 66,
   "metadata": {},
   "outputs": [
    {
     "name": "stdout",
     "output_type": "stream",
     "text": [
      "<class 'pandas.core.frame.DataFrame'>\n",
      "RangeIndex: 7252 entries, 0 to 7251\n",
      "Data columns (total 13 columns):\n",
      "Location             7252 non-null int64\n",
      "Year                 7252 non-null int64\n",
      "Kilometers_Driven    7252 non-null int64\n",
      "Fuel_Type            7252 non-null int64\n",
      "Transmission         7252 non-null int64\n",
      "Owner_Type           7252 non-null int64\n",
      "Seats                7252 non-null float64\n",
      "company              7252 non-null int64\n",
      "model                7252 non-null int64\n",
      "has_expired          7252 non-null int64\n",
      "mileage              7252 non-null float64\n",
      "engine               7252 non-null int64\n",
      "power                7252 non-null float64\n",
      "dtypes: float64(3), int64(10)\n",
      "memory usage: 736.6 KB\n"
     ]
    }
   ],
   "source": [
    "# information about the data frame\n",
    "all_data.info()"
   ]
  },
  {
   "cell_type": "markdown",
   "metadata": {},
   "source": [
    "### The above analysis shows that the dataframe now only contains numerical values and no null values.\n",
    "\n"
   ]
  },
  {
   "cell_type": "markdown",
   "metadata": {},
   "source": [
    "#### Let's now go into the minute details of the preprocessing step.\n",
    "* First up- Imputing null values.\n",
    "> Imputing the missing value can be done by taking the average of the column ans impute it in place of null .\n",
    "But it turns out that it is not a very good idea.\n",
    "But why?"
   ]
  },
  {
   "cell_type": "markdown",
   "metadata": {},
   "source": [
    "   > It turns out that imuting the null value to a particular car category say BMW by averaging the      values of only BMW from whole dataset will make more sense.Because the price difference of a BMW      with a honda car will be huge. "
   ]
  },
  {
   "cell_type": "markdown",
   "metadata": {},
   "source": [
    "### *After performing all the suggested steps and combing training and teasting data together the dataset will look like this.*"
   ]
  },
  {
   "cell_type": "code",
   "execution_count": 67,
   "metadata": {},
   "outputs": [
    {
     "data": {
      "text/html": [
       "<div>\n",
       "<style scoped>\n",
       "    .dataframe tbody tr th:only-of-type {\n",
       "        vertical-align: middle;\n",
       "    }\n",
       "\n",
       "    .dataframe tbody tr th {\n",
       "        vertical-align: top;\n",
       "    }\n",
       "\n",
       "    .dataframe thead th {\n",
       "        text-align: right;\n",
       "    }\n",
       "</style>\n",
       "<table border=\"1\" class=\"dataframe\">\n",
       "  <thead>\n",
       "    <tr style=\"text-align: right;\">\n",
       "      <th></th>\n",
       "      <th>Location</th>\n",
       "      <th>Year</th>\n",
       "      <th>Kilometers_Driven</th>\n",
       "      <th>Fuel_Type</th>\n",
       "      <th>Transmission</th>\n",
       "      <th>Owner_Type</th>\n",
       "      <th>Seats</th>\n",
       "      <th>company</th>\n",
       "      <th>model</th>\n",
       "      <th>has_expired</th>\n",
       "      <th>mileage</th>\n",
       "      <th>engine</th>\n",
       "      <th>power</th>\n",
       "    </tr>\n",
       "  </thead>\n",
       "  <tbody>\n",
       "    <tr>\n",
       "      <th>0</th>\n",
       "      <td>9</td>\n",
       "      <td>2010</td>\n",
       "      <td>72000</td>\n",
       "      <td>0</td>\n",
       "      <td>1</td>\n",
       "      <td>0</td>\n",
       "      <td>5.0</td>\n",
       "      <td>19</td>\n",
       "      <td>130</td>\n",
       "      <td>1</td>\n",
       "      <td>26.60</td>\n",
       "      <td>998</td>\n",
       "      <td>58.16</td>\n",
       "    </tr>\n",
       "    <tr>\n",
       "      <th>1</th>\n",
       "      <td>10</td>\n",
       "      <td>2015</td>\n",
       "      <td>41000</td>\n",
       "      <td>1</td>\n",
       "      <td>1</td>\n",
       "      <td>0</td>\n",
       "      <td>5.0</td>\n",
       "      <td>11</td>\n",
       "      <td>68</td>\n",
       "      <td>1</td>\n",
       "      <td>19.67</td>\n",
       "      <td>1582</td>\n",
       "      <td>126.20</td>\n",
       "    </tr>\n",
       "    <tr>\n",
       "      <th>2</th>\n",
       "      <td>2</td>\n",
       "      <td>2011</td>\n",
       "      <td>46000</td>\n",
       "      <td>4</td>\n",
       "      <td>1</td>\n",
       "      <td>0</td>\n",
       "      <td>5.0</td>\n",
       "      <td>10</td>\n",
       "      <td>63</td>\n",
       "      <td>0</td>\n",
       "      <td>18.20</td>\n",
       "      <td>1199</td>\n",
       "      <td>88.70</td>\n",
       "    </tr>\n",
       "    <tr>\n",
       "      <th>3</th>\n",
       "      <td>2</td>\n",
       "      <td>2012</td>\n",
       "      <td>87000</td>\n",
       "      <td>1</td>\n",
       "      <td>1</td>\n",
       "      <td>0</td>\n",
       "      <td>7.0</td>\n",
       "      <td>19</td>\n",
       "      <td>117</td>\n",
       "      <td>1</td>\n",
       "      <td>20.77</td>\n",
       "      <td>1248</td>\n",
       "      <td>88.76</td>\n",
       "    </tr>\n",
       "    <tr>\n",
       "      <th>4</th>\n",
       "      <td>3</td>\n",
       "      <td>2013</td>\n",
       "      <td>40670</td>\n",
       "      <td>1</td>\n",
       "      <td>0</td>\n",
       "      <td>2</td>\n",
       "      <td>5.0</td>\n",
       "      <td>1</td>\n",
       "      <td>2</td>\n",
       "      <td>1</td>\n",
       "      <td>15.20</td>\n",
       "      <td>1968</td>\n",
       "      <td>140.80</td>\n",
       "    </tr>\n",
       "  </tbody>\n",
       "</table>\n",
       "</div>"
      ],
      "text/plain": [
       "   Location  Year  Kilometers_Driven  Fuel_Type  Transmission  Owner_Type  \\\n",
       "0         9  2010              72000          0             1           0   \n",
       "1        10  2015              41000          1             1           0   \n",
       "2         2  2011              46000          4             1           0   \n",
       "3         2  2012              87000          1             1           0   \n",
       "4         3  2013              40670          1             0           2   \n",
       "\n",
       "   Seats  company  model  has_expired  mileage  engine   power  \n",
       "0    5.0       19    130            1    26.60     998   58.16  \n",
       "1    5.0       11     68            1    19.67    1582  126.20  \n",
       "2    5.0       10     63            0    18.20    1199   88.70  \n",
       "3    7.0       19    117            1    20.77    1248   88.76  \n",
       "4    5.0        1      2            1    15.20    1968  140.80  "
      ]
     },
     "execution_count": 67,
     "metadata": {},
     "output_type": "execute_result"
    }
   ],
   "source": [
    "all_data.head()"
   ]
  },
  {
   "cell_type": "code",
   "execution_count": 68,
   "metadata": {},
   "outputs": [],
   "source": [
    "## chaging zero with 1 and 1 with 4 because the on applying sklearn labelencoder the test is converted to numerical \n",
    "## value is a random way. But values in owner feature have sense in the order.\n",
    "all_data.Owner_Type=all_data.Owner_Type.astype(str)\n",
    "\n",
    "all_data=all_data.replace({'Owner_Type':{'0':1,'1':4}})\n",
    "\n",
    "all_data.Owner_Type=all_data.Owner_Type.astype(int)\n"
   ]
  },
  {
   "cell_type": "code",
   "execution_count": 69,
   "metadata": {},
   "outputs": [],
   "source": [
    "## generating a new feature we will see later if it be helpful to the model or not.\n",
    "all_data['new_k']=(all_data.Kilometers_Driven%100)"
   ]
  },
  {
   "cell_type": "markdown",
   "metadata": {},
   "source": [
    "#### The response variable for the training set is contained in response.csv.let's load it."
   ]
  },
  {
   "cell_type": "code",
   "execution_count": 70,
   "metadata": {},
   "outputs": [],
   "source": [
    "y=pd.read_csv('response.csv')"
   ]
  },
  {
   "cell_type": "markdown",
   "metadata": {},
   "source": [
    "### Since all data contains both training and testing set ,we have to split it to get traing and testing set back."
   ]
  },
  {
   "cell_type": "code",
   "execution_count": 71,
   "metadata": {},
   "outputs": [],
   "source": [
    "## X - training set data\n",
    "## test - testing set data.\n",
    "X = all_data.iloc[:6018,:]\n",
    "test = all_data.iloc[6018:,:]"
   ]
  },
  {
   "cell_type": "code",
   "execution_count": 72,
   "metadata": {},
   "outputs": [
    {
     "data": {
      "text/html": [
       "<div>\n",
       "<style scoped>\n",
       "    .dataframe tbody tr th:only-of-type {\n",
       "        vertical-align: middle;\n",
       "    }\n",
       "\n",
       "    .dataframe tbody tr th {\n",
       "        vertical-align: top;\n",
       "    }\n",
       "\n",
       "    .dataframe thead th {\n",
       "        text-align: right;\n",
       "    }\n",
       "</style>\n",
       "<table border=\"1\" class=\"dataframe\">\n",
       "  <thead>\n",
       "    <tr style=\"text-align: right;\">\n",
       "      <th></th>\n",
       "      <th>Location</th>\n",
       "      <th>Year</th>\n",
       "      <th>Kilometers_Driven</th>\n",
       "      <th>Fuel_Type</th>\n",
       "      <th>Transmission</th>\n",
       "      <th>Owner_Type</th>\n",
       "      <th>Seats</th>\n",
       "      <th>company</th>\n",
       "      <th>model</th>\n",
       "      <th>has_expired</th>\n",
       "      <th>mileage</th>\n",
       "      <th>engine</th>\n",
       "      <th>power</th>\n",
       "      <th>new_k</th>\n",
       "    </tr>\n",
       "  </thead>\n",
       "  <tbody>\n",
       "    <tr>\n",
       "      <th>0</th>\n",
       "      <td>9</td>\n",
       "      <td>2010</td>\n",
       "      <td>72000</td>\n",
       "      <td>0</td>\n",
       "      <td>1</td>\n",
       "      <td>1</td>\n",
       "      <td>5.0</td>\n",
       "      <td>19</td>\n",
       "      <td>130</td>\n",
       "      <td>1</td>\n",
       "      <td>26.60</td>\n",
       "      <td>998</td>\n",
       "      <td>58.16</td>\n",
       "      <td>0</td>\n",
       "    </tr>\n",
       "    <tr>\n",
       "      <th>1</th>\n",
       "      <td>10</td>\n",
       "      <td>2015</td>\n",
       "      <td>41000</td>\n",
       "      <td>1</td>\n",
       "      <td>1</td>\n",
       "      <td>1</td>\n",
       "      <td>5.0</td>\n",
       "      <td>11</td>\n",
       "      <td>68</td>\n",
       "      <td>1</td>\n",
       "      <td>19.67</td>\n",
       "      <td>1582</td>\n",
       "      <td>126.20</td>\n",
       "      <td>0</td>\n",
       "    </tr>\n",
       "    <tr>\n",
       "      <th>2</th>\n",
       "      <td>2</td>\n",
       "      <td>2011</td>\n",
       "      <td>46000</td>\n",
       "      <td>4</td>\n",
       "      <td>1</td>\n",
       "      <td>1</td>\n",
       "      <td>5.0</td>\n",
       "      <td>10</td>\n",
       "      <td>63</td>\n",
       "      <td>0</td>\n",
       "      <td>18.20</td>\n",
       "      <td>1199</td>\n",
       "      <td>88.70</td>\n",
       "      <td>0</td>\n",
       "    </tr>\n",
       "    <tr>\n",
       "      <th>3</th>\n",
       "      <td>2</td>\n",
       "      <td>2012</td>\n",
       "      <td>87000</td>\n",
       "      <td>1</td>\n",
       "      <td>1</td>\n",
       "      <td>1</td>\n",
       "      <td>7.0</td>\n",
       "      <td>19</td>\n",
       "      <td>117</td>\n",
       "      <td>1</td>\n",
       "      <td>20.77</td>\n",
       "      <td>1248</td>\n",
       "      <td>88.76</td>\n",
       "      <td>0</td>\n",
       "    </tr>\n",
       "    <tr>\n",
       "      <th>4</th>\n",
       "      <td>3</td>\n",
       "      <td>2013</td>\n",
       "      <td>40670</td>\n",
       "      <td>1</td>\n",
       "      <td>0</td>\n",
       "      <td>2</td>\n",
       "      <td>5.0</td>\n",
       "      <td>1</td>\n",
       "      <td>2</td>\n",
       "      <td>1</td>\n",
       "      <td>15.20</td>\n",
       "      <td>1968</td>\n",
       "      <td>140.80</td>\n",
       "      <td>70</td>\n",
       "    </tr>\n",
       "  </tbody>\n",
       "</table>\n",
       "</div>"
      ],
      "text/plain": [
       "   Location  Year  Kilometers_Driven  Fuel_Type  Transmission  Owner_Type  \\\n",
       "0         9  2010              72000          0             1           1   \n",
       "1        10  2015              41000          1             1           1   \n",
       "2         2  2011              46000          4             1           1   \n",
       "3         2  2012              87000          1             1           1   \n",
       "4         3  2013              40670          1             0           2   \n",
       "\n",
       "   Seats  company  model  has_expired  mileage  engine   power  new_k  \n",
       "0    5.0       19    130            1    26.60     998   58.16      0  \n",
       "1    5.0       11     68            1    19.67    1582  126.20      0  \n",
       "2    5.0       10     63            0    18.20    1199   88.70      0  \n",
       "3    7.0       19    117            1    20.77    1248   88.76      0  \n",
       "4    5.0        1      2            1    15.20    1968  140.80     70  "
      ]
     },
     "execution_count": 72,
     "metadata": {},
     "output_type": "execute_result"
    }
   ],
   "source": [
    "# first five rows of the training set.\n",
    "X.head()"
   ]
  },
  {
   "cell_type": "code",
   "execution_count": 73,
   "metadata": {},
   "outputs": [],
   "source": [
    "## concatenating response variable of the training set  to the features  of training set.\n",
    "train=pd.concat([X,y],axis=1)"
   ]
  },
  {
   "cell_type": "markdown",
   "metadata": {},
   "source": [
    "### *One of the most important preprocessing step which proved to be very fruitful was mean encoding or target encoding.*\n",
    "> It is basically encoding the categorical features according to the target value or the response value.But it should be done in a way which must eliminate overfitting.Because it is very much prone to overfitting."
   ]
  },
  {
   "cell_type": "code",
   "execution_count": 74,
   "metadata": {},
   "outputs": [],
   "source": [
    "from sklearn import model_selection"
   ]
  },
  {
   "cell_type": "code",
   "execution_count": 75,
   "metadata": {},
   "outputs": [],
   "source": [
    "## Applying mean encoding to various categorical features.\n",
    "kf = model_selection.KFold(5, shuffle=False)\n",
    "train['fuel_target_enc'] = np.nan"
   ]
  },
  {
   "cell_type": "code",
   "execution_count": 76,
   "metadata": {},
   "outputs": [],
   "source": [
    "for tr_ind, val_ind in kf.split(train):\n",
    "    X_tr, X_val = train.iloc[tr_ind], train.iloc[val_ind]\n",
    "    train.loc[train.index[val_ind], 'fuel_target_enc'] = X_val['Fuel_Type'].map(X_tr.groupby('Fuel_Type').Price.mean())"
   ]
  },
  {
   "cell_type": "code",
   "execution_count": 77,
   "metadata": {},
   "outputs": [],
   "source": [
    "train['owner_target_enc'] = np.nan\n",
    "for tr_ind, val_ind in kf.split(train):\n",
    "    X_tr, X_val = train.iloc[tr_ind], train.iloc[val_ind]\n",
    "    train.loc[train.index[val_ind], 'owner_target_enc'] = X_val['Owner_Type'].map(X_tr.groupby('Owner_Type').Price.mean())"
   ]
  },
  {
   "cell_type": "code",
   "execution_count": 78,
   "metadata": {},
   "outputs": [],
   "source": [
    "train['company_target_enc'] = np.nan\n",
    "for tr_ind, val_ind in kf.split(train):\n",
    "    X_tr, X_val = train.iloc[tr_ind], train.iloc[val_ind]\n",
    "    train.loc[train.index[val_ind], 'company_target_enc'] = X_val['company'].map(X_tr.groupby('company').Price.mean())"
   ]
  },
  {
   "cell_type": "code",
   "execution_count": 79,
   "metadata": {},
   "outputs": [],
   "source": [
    "train['location_target_enc'] = np.nan\n",
    "for tr_ind, val_ind in kf.split(train):\n",
    "    X_tr, X_val = train.iloc[tr_ind], train.iloc[val_ind]\n",
    "    train.loc[train.index[val_ind], 'location_target_enc'] = X_val['Location'].map(X_tr.groupby('Location').Price.mean())"
   ]
  },
  {
   "cell_type": "code",
   "execution_count": 80,
   "metadata": {},
   "outputs": [],
   "source": [
    "train['year_target_enc'] = np.nan\n",
    "for tr_ind, val_ind in kf.split(train):\n",
    "    X_tr, X_val = train.iloc[tr_ind], train.iloc[val_ind]\n",
    "    train.loc[train.index[val_ind], 'year_target_enc'] = X_val['Year'].map(X_tr.groupby('Year').Price.mean())"
   ]
  },
  {
   "cell_type": "code",
   "execution_count": 81,
   "metadata": {},
   "outputs": [],
   "source": [
    "train['transmission_target_enc'] = np.nan\n",
    "for tr_ind, val_ind in kf.split(train):\n",
    "    X_tr, X_val = train.iloc[tr_ind], train.iloc[val_ind]\n",
    "    train.loc[train.index[val_ind], 'transmission_target_enc'] = X_val['Transmission'].map(X_tr.groupby('Transmission').Price.mean())"
   ]
  },
  {
   "cell_type": "code",
   "execution_count": 82,
   "metadata": {},
   "outputs": [],
   "source": [
    "train['seats_target_enc'] = np.nan\n",
    "for tr_ind, val_ind in kf.split(train):\n",
    "    X_tr, X_val = train.iloc[tr_ind], train.iloc[val_ind]\n",
    "    train.loc[train.index[val_ind], 'seats_target_enc'] = X_val['Seats'].map(X_tr.groupby('Seats').Price.mean())"
   ]
  },
  {
   "cell_type": "code",
   "execution_count": 83,
   "metadata": {},
   "outputs": [],
   "source": [
    "train['exp_target_enc'] = np.nan\n",
    "for tr_ind, val_ind in kf.split(train):\n",
    "    X_tr, X_val = train.iloc[tr_ind], train.iloc[val_ind]\n",
    "    train.loc[train.index[val_ind], 'exp_target_enc'] = X_val['has_expired'].map(X_tr.groupby('has_expired').Price.mean())"
   ]
  },
  {
   "cell_type": "code",
   "execution_count": 84,
   "metadata": {},
   "outputs": [],
   "source": [
    "train['model_target_enc'] = np.nan\n",
    "for tr_ind, val_ind in kf.split(train):\n",
    "    X_tr, X_val = train.iloc[tr_ind], train.iloc[val_ind]\n",
    "    train.loc[train.index[val_ind], 'model_target_enc'] = X_val['model'].map(X_tr.groupby('model').Price.mean())"
   ]
  },
  {
   "cell_type": "markdown",
   "metadata": {},
   "source": [
    "### *After mean encoding  the categorical features our data set looks like this.But mother feature must be removed from which the mean encoded features have been generated.*"
   ]
  },
  {
   "cell_type": "code",
   "execution_count": 85,
   "metadata": {},
   "outputs": [],
   "source": [
    "X=train.drop(['Price'],axis=1)\n",
    "y=train.Price"
   ]
  },
  {
   "cell_type": "code",
   "execution_count": 86,
   "metadata": {},
   "outputs": [
    {
     "data": {
      "text/html": [
       "<div>\n",
       "<style scoped>\n",
       "    .dataframe tbody tr th:only-of-type {\n",
       "        vertical-align: middle;\n",
       "    }\n",
       "\n",
       "    .dataframe tbody tr th {\n",
       "        vertical-align: top;\n",
       "    }\n",
       "\n",
       "    .dataframe thead th {\n",
       "        text-align: right;\n",
       "    }\n",
       "</style>\n",
       "<table border=\"1\" class=\"dataframe\">\n",
       "  <thead>\n",
       "    <tr style=\"text-align: right;\">\n",
       "      <th></th>\n",
       "      <th>Location</th>\n",
       "      <th>Year</th>\n",
       "      <th>Kilometers_Driven</th>\n",
       "      <th>Fuel_Type</th>\n",
       "      <th>Transmission</th>\n",
       "      <th>Owner_Type</th>\n",
       "      <th>Seats</th>\n",
       "      <th>company</th>\n",
       "      <th>model</th>\n",
       "      <th>has_expired</th>\n",
       "      <th>...</th>\n",
       "      <th>new_k</th>\n",
       "      <th>fuel_target_enc</th>\n",
       "      <th>owner_target_enc</th>\n",
       "      <th>company_target_enc</th>\n",
       "      <th>location_target_enc</th>\n",
       "      <th>year_target_enc</th>\n",
       "      <th>transmission_target_enc</th>\n",
       "      <th>seats_target_enc</th>\n",
       "      <th>exp_target_enc</th>\n",
       "      <th>model_target_enc</th>\n",
       "    </tr>\n",
       "  </thead>\n",
       "  <tbody>\n",
       "    <tr>\n",
       "      <th>0</th>\n",
       "      <td>9</td>\n",
       "      <td>2010</td>\n",
       "      <td>72000</td>\n",
       "      <td>0</td>\n",
       "      <td>1</td>\n",
       "      <td>1</td>\n",
       "      <td>5.0</td>\n",
       "      <td>19</td>\n",
       "      <td>130</td>\n",
       "      <td>1</td>\n",
       "      <td>...</td>\n",
       "      <td>0</td>\n",
       "      <td>3.670204</td>\n",
       "      <td>9.734647</td>\n",
       "      <td>4.508873</td>\n",
       "      <td>8.916895</td>\n",
       "      <td>5.583191</td>\n",
       "      <td>5.307179</td>\n",
       "      <td>8.296371</td>\n",
       "      <td>8.714744</td>\n",
       "      <td>2.862951</td>\n",
       "    </tr>\n",
       "    <tr>\n",
       "      <th>1</th>\n",
       "      <td>10</td>\n",
       "      <td>2015</td>\n",
       "      <td>41000</td>\n",
       "      <td>1</td>\n",
       "      <td>1</td>\n",
       "      <td>1</td>\n",
       "      <td>5.0</td>\n",
       "      <td>11</td>\n",
       "      <td>68</td>\n",
       "      <td>1</td>\n",
       "      <td>...</td>\n",
       "      <td>0</td>\n",
       "      <td>12.755169</td>\n",
       "      <td>9.734647</td>\n",
       "      <td>5.437851</td>\n",
       "      <td>6.569940</td>\n",
       "      <td>10.810441</td>\n",
       "      <td>5.307179</td>\n",
       "      <td>8.296371</td>\n",
       "      <td>8.714744</td>\n",
       "      <td>12.314684</td>\n",
       "    </tr>\n",
       "    <tr>\n",
       "      <th>2</th>\n",
       "      <td>2</td>\n",
       "      <td>2011</td>\n",
       "      <td>46000</td>\n",
       "      <td>4</td>\n",
       "      <td>1</td>\n",
       "      <td>1</td>\n",
       "      <td>5.0</td>\n",
       "      <td>10</td>\n",
       "      <td>63</td>\n",
       "      <td>0</td>\n",
       "      <td>...</td>\n",
       "      <td>0</td>\n",
       "      <td>5.524928</td>\n",
       "      <td>9.734647</td>\n",
       "      <td>5.421044</td>\n",
       "      <td>7.960734</td>\n",
       "      <td>6.687938</td>\n",
       "      <td>5.307179</td>\n",
       "      <td>8.296371</td>\n",
       "      <td>13.161160</td>\n",
       "      <td>6.007660</td>\n",
       "    </tr>\n",
       "    <tr>\n",
       "      <th>3</th>\n",
       "      <td>2</td>\n",
       "      <td>2012</td>\n",
       "      <td>87000</td>\n",
       "      <td>1</td>\n",
       "      <td>1</td>\n",
       "      <td>1</td>\n",
       "      <td>7.0</td>\n",
       "      <td>19</td>\n",
       "      <td>117</td>\n",
       "      <td>1</td>\n",
       "      <td>...</td>\n",
       "      <td>0</td>\n",
       "      <td>12.755169</td>\n",
       "      <td>9.734647</td>\n",
       "      <td>4.508873</td>\n",
       "      <td>7.960734</td>\n",
       "      <td>7.386825</td>\n",
       "      <td>5.307179</td>\n",
       "      <td>14.725047</td>\n",
       "      <td>8.714744</td>\n",
       "      <td>6.958929</td>\n",
       "    </tr>\n",
       "    <tr>\n",
       "      <th>4</th>\n",
       "      <td>3</td>\n",
       "      <td>2013</td>\n",
       "      <td>40670</td>\n",
       "      <td>1</td>\n",
       "      <td>0</td>\n",
       "      <td>2</td>\n",
       "      <td>5.0</td>\n",
       "      <td>1</td>\n",
       "      <td>2</td>\n",
       "      <td>1</td>\n",
       "      <td>...</td>\n",
       "      <td>70</td>\n",
       "      <td>12.755169</td>\n",
       "      <td>7.676917</td>\n",
       "      <td>25.422818</td>\n",
       "      <td>14.604500</td>\n",
       "      <td>8.809942</td>\n",
       "      <td>19.573368</td>\n",
       "      <td>8.296371</td>\n",
       "      <td>8.714744</td>\n",
       "      <td>18.757313</td>\n",
       "    </tr>\n",
       "  </tbody>\n",
       "</table>\n",
       "<p>5 rows × 23 columns</p>\n",
       "</div>"
      ],
      "text/plain": [
       "   Location  Year  Kilometers_Driven  Fuel_Type  Transmission  Owner_Type  \\\n",
       "0         9  2010              72000          0             1           1   \n",
       "1        10  2015              41000          1             1           1   \n",
       "2         2  2011              46000          4             1           1   \n",
       "3         2  2012              87000          1             1           1   \n",
       "4         3  2013              40670          1             0           2   \n",
       "\n",
       "   Seats  company  model  has_expired        ...         new_k  \\\n",
       "0    5.0       19    130            1        ...             0   \n",
       "1    5.0       11     68            1        ...             0   \n",
       "2    5.0       10     63            0        ...             0   \n",
       "3    7.0       19    117            1        ...             0   \n",
       "4    5.0        1      2            1        ...            70   \n",
       "\n",
       "   fuel_target_enc  owner_target_enc  company_target_enc  location_target_enc  \\\n",
       "0         3.670204          9.734647            4.508873             8.916895   \n",
       "1        12.755169          9.734647            5.437851             6.569940   \n",
       "2         5.524928          9.734647            5.421044             7.960734   \n",
       "3        12.755169          9.734647            4.508873             7.960734   \n",
       "4        12.755169          7.676917           25.422818            14.604500   \n",
       "\n",
       "   year_target_enc  transmission_target_enc  seats_target_enc  exp_target_enc  \\\n",
       "0         5.583191                 5.307179          8.296371        8.714744   \n",
       "1        10.810441                 5.307179          8.296371        8.714744   \n",
       "2         6.687938                 5.307179          8.296371       13.161160   \n",
       "3         7.386825                 5.307179         14.725047        8.714744   \n",
       "4         8.809942                19.573368          8.296371        8.714744   \n",
       "\n",
       "   model_target_enc  \n",
       "0          2.862951  \n",
       "1         12.314684  \n",
       "2          6.007660  \n",
       "3          6.958929  \n",
       "4         18.757313  \n",
       "\n",
       "[5 rows x 23 columns]"
      ]
     },
     "execution_count": 86,
     "metadata": {},
     "output_type": "execute_result"
    }
   ],
   "source": [
    "X.head()"
   ]
  },
  {
   "cell_type": "code",
   "execution_count": 87,
   "metadata": {},
   "outputs": [
    {
     "data": {
      "text/plain": [
       "0     1.75\n",
       "1    12.50\n",
       "2     4.50\n",
       "3     6.00\n",
       "4    17.74\n",
       "Name: Price, dtype: float64"
      ]
     },
     "execution_count": 87,
     "metadata": {},
     "output_type": "execute_result"
    }
   ],
   "source": [
    "y.head()"
   ]
  },
  {
   "cell_type": "code",
   "execution_count": 88,
   "metadata": {},
   "outputs": [
    {
     "name": "stdout",
     "output_type": "stream",
     "text": [
      "<class 'pandas.core.frame.DataFrame'>\n",
      "RangeIndex: 6018 entries, 0 to 6017\n",
      "Data columns (total 23 columns):\n",
      "Location                   6018 non-null int64\n",
      "Year                       6018 non-null int64\n",
      "Kilometers_Driven          6018 non-null int64\n",
      "Fuel_Type                  6018 non-null int64\n",
      "Transmission               6018 non-null int64\n",
      "Owner_Type                 6018 non-null int32\n",
      "Seats                      6018 non-null float64\n",
      "company                    6018 non-null int64\n",
      "model                      6018 non-null int64\n",
      "has_expired                6018 non-null int64\n",
      "mileage                    6018 non-null float64\n",
      "engine                     6018 non-null int64\n",
      "power                      6018 non-null float64\n",
      "new_k                      6018 non-null int64\n",
      "fuel_target_enc            6018 non-null float64\n",
      "owner_target_enc           6018 non-null float64\n",
      "company_target_enc         6010 non-null float64\n",
      "location_target_enc        6018 non-null float64\n",
      "year_target_enc            6016 non-null float64\n",
      "transmission_target_enc    6018 non-null float64\n",
      "seats_target_enc           6014 non-null float64\n",
      "exp_target_enc             6018 non-null float64\n",
      "model_target_enc           5977 non-null float64\n",
      "dtypes: float64(12), int32(1), int64(10)\n",
      "memory usage: 1.0 MB\n"
     ]
    }
   ],
   "source": [
    "X.info()"
   ]
  },
  {
   "cell_type": "code",
   "execution_count": 89,
   "metadata": {},
   "outputs": [],
   "source": [
    "## Dropping original features\n",
    "new_X=X.drop(['Location','Year','Fuel_Type','Owner_Type','company','Transmission','Seats','has_expired','model'],axis=1)"
   ]
  },
  {
   "cell_type": "code",
   "execution_count": 90,
   "metadata": {},
   "outputs": [
    {
     "data": {
      "text/html": [
       "<div>\n",
       "<style scoped>\n",
       "    .dataframe tbody tr th:only-of-type {\n",
       "        vertical-align: middle;\n",
       "    }\n",
       "\n",
       "    .dataframe tbody tr th {\n",
       "        vertical-align: top;\n",
       "    }\n",
       "\n",
       "    .dataframe thead th {\n",
       "        text-align: right;\n",
       "    }\n",
       "</style>\n",
       "<table border=\"1\" class=\"dataframe\">\n",
       "  <thead>\n",
       "    <tr style=\"text-align: right;\">\n",
       "      <th></th>\n",
       "      <th>Kilometers_Driven</th>\n",
       "      <th>mileage</th>\n",
       "      <th>engine</th>\n",
       "      <th>power</th>\n",
       "      <th>new_k</th>\n",
       "      <th>fuel_target_enc</th>\n",
       "      <th>owner_target_enc</th>\n",
       "      <th>company_target_enc</th>\n",
       "      <th>location_target_enc</th>\n",
       "      <th>year_target_enc</th>\n",
       "      <th>transmission_target_enc</th>\n",
       "      <th>seats_target_enc</th>\n",
       "      <th>exp_target_enc</th>\n",
       "      <th>model_target_enc</th>\n",
       "    </tr>\n",
       "  </thead>\n",
       "  <tbody>\n",
       "    <tr>\n",
       "      <th>0</th>\n",
       "      <td>72000</td>\n",
       "      <td>26.60</td>\n",
       "      <td>998</td>\n",
       "      <td>58.16</td>\n",
       "      <td>0</td>\n",
       "      <td>3.670204</td>\n",
       "      <td>9.734647</td>\n",
       "      <td>4.508873</td>\n",
       "      <td>8.916895</td>\n",
       "      <td>5.583191</td>\n",
       "      <td>5.307179</td>\n",
       "      <td>8.296371</td>\n",
       "      <td>8.714744</td>\n",
       "      <td>2.862951</td>\n",
       "    </tr>\n",
       "    <tr>\n",
       "      <th>1</th>\n",
       "      <td>41000</td>\n",
       "      <td>19.67</td>\n",
       "      <td>1582</td>\n",
       "      <td>126.20</td>\n",
       "      <td>0</td>\n",
       "      <td>12.755169</td>\n",
       "      <td>9.734647</td>\n",
       "      <td>5.437851</td>\n",
       "      <td>6.569940</td>\n",
       "      <td>10.810441</td>\n",
       "      <td>5.307179</td>\n",
       "      <td>8.296371</td>\n",
       "      <td>8.714744</td>\n",
       "      <td>12.314684</td>\n",
       "    </tr>\n",
       "    <tr>\n",
       "      <th>2</th>\n",
       "      <td>46000</td>\n",
       "      <td>18.20</td>\n",
       "      <td>1199</td>\n",
       "      <td>88.70</td>\n",
       "      <td>0</td>\n",
       "      <td>5.524928</td>\n",
       "      <td>9.734647</td>\n",
       "      <td>5.421044</td>\n",
       "      <td>7.960734</td>\n",
       "      <td>6.687938</td>\n",
       "      <td>5.307179</td>\n",
       "      <td>8.296371</td>\n",
       "      <td>13.161160</td>\n",
       "      <td>6.007660</td>\n",
       "    </tr>\n",
       "    <tr>\n",
       "      <th>3</th>\n",
       "      <td>87000</td>\n",
       "      <td>20.77</td>\n",
       "      <td>1248</td>\n",
       "      <td>88.76</td>\n",
       "      <td>0</td>\n",
       "      <td>12.755169</td>\n",
       "      <td>9.734647</td>\n",
       "      <td>4.508873</td>\n",
       "      <td>7.960734</td>\n",
       "      <td>7.386825</td>\n",
       "      <td>5.307179</td>\n",
       "      <td>14.725047</td>\n",
       "      <td>8.714744</td>\n",
       "      <td>6.958929</td>\n",
       "    </tr>\n",
       "    <tr>\n",
       "      <th>4</th>\n",
       "      <td>40670</td>\n",
       "      <td>15.20</td>\n",
       "      <td>1968</td>\n",
       "      <td>140.80</td>\n",
       "      <td>70</td>\n",
       "      <td>12.755169</td>\n",
       "      <td>7.676917</td>\n",
       "      <td>25.422818</td>\n",
       "      <td>14.604500</td>\n",
       "      <td>8.809942</td>\n",
       "      <td>19.573368</td>\n",
       "      <td>8.296371</td>\n",
       "      <td>8.714744</td>\n",
       "      <td>18.757313</td>\n",
       "    </tr>\n",
       "  </tbody>\n",
       "</table>\n",
       "</div>"
      ],
      "text/plain": [
       "   Kilometers_Driven  mileage  engine   power  new_k  fuel_target_enc  \\\n",
       "0              72000    26.60     998   58.16      0         3.670204   \n",
       "1              41000    19.67    1582  126.20      0        12.755169   \n",
       "2              46000    18.20    1199   88.70      0         5.524928   \n",
       "3              87000    20.77    1248   88.76      0        12.755169   \n",
       "4              40670    15.20    1968  140.80     70        12.755169   \n",
       "\n",
       "   owner_target_enc  company_target_enc  location_target_enc  year_target_enc  \\\n",
       "0          9.734647            4.508873             8.916895         5.583191   \n",
       "1          9.734647            5.437851             6.569940        10.810441   \n",
       "2          9.734647            5.421044             7.960734         6.687938   \n",
       "3          9.734647            4.508873             7.960734         7.386825   \n",
       "4          7.676917           25.422818            14.604500         8.809942   \n",
       "\n",
       "   transmission_target_enc  seats_target_enc  exp_target_enc  model_target_enc  \n",
       "0                 5.307179          8.296371        8.714744          2.862951  \n",
       "1                 5.307179          8.296371        8.714744         12.314684  \n",
       "2                 5.307179          8.296371       13.161160          6.007660  \n",
       "3                 5.307179         14.725047        8.714744          6.958929  \n",
       "4                19.573368          8.296371        8.714744         18.757313  "
      ]
     },
     "execution_count": 90,
     "metadata": {},
     "output_type": "execute_result"
    }
   ],
   "source": [
    "#final dataset view\n",
    "new_X.head()"
   ]
  },
  {
   "cell_type": "code",
   "execution_count": 92,
   "metadata": {},
   "outputs": [
    {
     "name": "stdout",
     "output_type": "stream",
     "text": [
      "<class 'pandas.core.frame.DataFrame'>\n",
      "RangeIndex: 6018 entries, 0 to 6017\n",
      "Data columns (total 14 columns):\n",
      "Kilometers_Driven          6018 non-null int64\n",
      "mileage                    6018 non-null float64\n",
      "engine                     6018 non-null int64\n",
      "power                      6018 non-null float64\n",
      "new_k                      6018 non-null int64\n",
      "fuel_target_enc            6018 non-null float64\n",
      "owner_target_enc           6018 non-null float64\n",
      "company_target_enc         6010 non-null float64\n",
      "location_target_enc        6018 non-null float64\n",
      "year_target_enc            6016 non-null float64\n",
      "transmission_target_enc    6018 non-null float64\n",
      "seats_target_enc           6014 non-null float64\n",
      "exp_target_enc             6018 non-null float64\n",
      "model_target_enc           5977 non-null float64\n",
      "dtypes: float64(11), int64(3)\n",
      "memory usage: 658.3 KB\n"
     ]
    }
   ],
   "source": [
    "new_X.info()"
   ]
  },
  {
   "cell_type": "markdown",
   "metadata": {},
   "source": [
    "### The above analysis shows that the newly generated features have some null values, so we must impute them. "
   ]
  },
  {
   "cell_type": "code",
   "execution_count": 93,
   "metadata": {},
   "outputs": [],
   "source": [
    "new_X.company_target_enc=new_X.company_target_enc.fillna(value=new_X.company_target_enc.mean())"
   ]
  },
  {
   "cell_type": "code",
   "execution_count": 94,
   "metadata": {},
   "outputs": [],
   "source": [
    "new_X.year_target_enc=new_X.year_target_enc.fillna(value=new_X.year_target_enc.mean())"
   ]
  },
  {
   "cell_type": "code",
   "execution_count": 95,
   "metadata": {},
   "outputs": [],
   "source": [
    "new_X.seats_target_enc=new_X.seats_target_enc.fillna(value=new_X.seats_target_enc.mean())"
   ]
  },
  {
   "cell_type": "code",
   "execution_count": 99,
   "metadata": {},
   "outputs": [],
   "source": [
    "new_X.model_target_enc=new_X.model_target_enc.fillna(value=new_X.model_target_enc.mean())"
   ]
  },
  {
   "cell_type": "code",
   "execution_count": 100,
   "metadata": {},
   "outputs": [],
   "source": [
    "from sklearn.model_selection import train_test_split\n",
    "X_train,X_test,y_train,y_test=train_test_split(new_X,y,random_state=42)"
   ]
  },
  {
   "cell_type": "code",
   "execution_count": 101,
   "metadata": {},
   "outputs": [
    {
     "name": "stdout",
     "output_type": "stream",
     "text": [
      "<class 'pandas.core.frame.DataFrame'>\n",
      "Int64Index: 4513 entries, 3043 to 860\n",
      "Data columns (total 14 columns):\n",
      "Kilometers_Driven          4513 non-null int64\n",
      "mileage                    4513 non-null float64\n",
      "engine                     4513 non-null int64\n",
      "power                      4513 non-null float64\n",
      "new_k                      4513 non-null int64\n",
      "fuel_target_enc            4513 non-null float64\n",
      "owner_target_enc           4513 non-null float64\n",
      "company_target_enc         4513 non-null float64\n",
      "location_target_enc        4513 non-null float64\n",
      "year_target_enc            4513 non-null float64\n",
      "transmission_target_enc    4513 non-null float64\n",
      "seats_target_enc           4513 non-null float64\n",
      "exp_target_enc             4513 non-null float64\n",
      "model_target_enc           4513 non-null float64\n",
      "dtypes: float64(11), int64(3)\n",
      "memory usage: 528.9 KB\n"
     ]
    }
   ],
   "source": [
    "X_train.info()"
   ]
  },
  {
   "cell_type": "markdown",
   "metadata": {},
   "source": [
    "## Training on first split and testing on another split"
   ]
  },
  {
   "cell_type": "code",
   "execution_count": 102,
   "metadata": {},
   "outputs": [
    {
     "name": "stdout",
     "output_type": "stream",
     "text": [
      "0.9729101488114139\n"
     ]
    }
   ],
   "source": [
    "from sklearn.metrics import mean_squared_log_error\n",
    "from sklearn.ensemble import GradientBoostingRegressor\n",
    "gb=GradientBoostingRegressor(n_estimators=450,learning_rate=0.2,max_depth=5,random_state=42)\n",
    "gb.fit(X_train,y_train)\n",
    "gb_pred=gb.predict(X_test)\n",
    "score=mean_squared_log_error(np.absolute(y_test),np.absolute(gb_pred))\n",
    "print(1-score)"
   ]
  },
  {
   "cell_type": "code",
   "execution_count": 103,
   "metadata": {},
   "outputs": [
    {
     "data": {
      "text/plain": [
       "array([0.02755588, 0.01386491, 0.03245831, 0.18272505, 0.00224686,\n",
       "       0.00502778, 0.0007928 , 0.17973021, 0.0079809 , 0.14307715,\n",
       "       0.00254139, 0.00541551, 0.00231519, 0.39426808])"
      ]
     },
     "execution_count": 103,
     "metadata": {},
     "output_type": "execute_result"
    }
   ],
   "source": [
    "gb.feature_importances_"
   ]
  },
  {
   "cell_type": "markdown",
   "metadata": {},
   "source": [
    "## Now it's time to convert the testing dataset in the same format as the training dataset.\n",
    "## So the features mean encoded in training data needs to be mean encoded in test data also"
   ]
  },
  {
   "cell_type": "code",
   "execution_count": 104,
   "metadata": {},
   "outputs": [
    {
     "data": {
      "text/html": [
       "<div>\n",
       "<style scoped>\n",
       "    .dataframe tbody tr th:only-of-type {\n",
       "        vertical-align: middle;\n",
       "    }\n",
       "\n",
       "    .dataframe tbody tr th {\n",
       "        vertical-align: top;\n",
       "    }\n",
       "\n",
       "    .dataframe thead th {\n",
       "        text-align: right;\n",
       "    }\n",
       "</style>\n",
       "<table border=\"1\" class=\"dataframe\">\n",
       "  <thead>\n",
       "    <tr style=\"text-align: right;\">\n",
       "      <th></th>\n",
       "      <th>Location</th>\n",
       "      <th>Year</th>\n",
       "      <th>Kilometers_Driven</th>\n",
       "      <th>Fuel_Type</th>\n",
       "      <th>Transmission</th>\n",
       "      <th>Owner_Type</th>\n",
       "      <th>Seats</th>\n",
       "      <th>company</th>\n",
       "      <th>model</th>\n",
       "      <th>has_expired</th>\n",
       "      <th>mileage</th>\n",
       "      <th>engine</th>\n",
       "      <th>power</th>\n",
       "      <th>new_k</th>\n",
       "    </tr>\n",
       "  </thead>\n",
       "  <tbody>\n",
       "    <tr>\n",
       "      <th>6018</th>\n",
       "      <td>4</td>\n",
       "      <td>2014</td>\n",
       "      <td>40929</td>\n",
       "      <td>0</td>\n",
       "      <td>1</td>\n",
       "      <td>1</td>\n",
       "      <td>4.0</td>\n",
       "      <td>19</td>\n",
       "      <td>111</td>\n",
       "      <td>1</td>\n",
       "      <td>32.26</td>\n",
       "      <td>998</td>\n",
       "      <td>58.20</td>\n",
       "      <td>29</td>\n",
       "    </tr>\n",
       "    <tr>\n",
       "      <th>6019</th>\n",
       "      <td>3</td>\n",
       "      <td>2013</td>\n",
       "      <td>54493</td>\n",
       "      <td>4</td>\n",
       "      <td>1</td>\n",
       "      <td>2</td>\n",
       "      <td>5.0</td>\n",
       "      <td>19</td>\n",
       "      <td>111</td>\n",
       "      <td>1</td>\n",
       "      <td>24.70</td>\n",
       "      <td>796</td>\n",
       "      <td>47.30</td>\n",
       "      <td>93</td>\n",
       "    </tr>\n",
       "    <tr>\n",
       "      <th>6020</th>\n",
       "      <td>9</td>\n",
       "      <td>2017</td>\n",
       "      <td>34000</td>\n",
       "      <td>1</td>\n",
       "      <td>1</td>\n",
       "      <td>1</td>\n",
       "      <td>7.0</td>\n",
       "      <td>30</td>\n",
       "      <td>205</td>\n",
       "      <td>0</td>\n",
       "      <td>13.68</td>\n",
       "      <td>2393</td>\n",
       "      <td>147.80</td>\n",
       "      <td>0</td>\n",
       "    </tr>\n",
       "    <tr>\n",
       "      <th>6021</th>\n",
       "      <td>5</td>\n",
       "      <td>2012</td>\n",
       "      <td>139000</td>\n",
       "      <td>1</td>\n",
       "      <td>1</td>\n",
       "      <td>1</td>\n",
       "      <td>5.0</td>\n",
       "      <td>30</td>\n",
       "      <td>203</td>\n",
       "      <td>1</td>\n",
       "      <td>23.59</td>\n",
       "      <td>1364</td>\n",
       "      <td>67.04</td>\n",
       "      <td>0</td>\n",
       "    </tr>\n",
       "    <tr>\n",
       "      <th>6022</th>\n",
       "      <td>9</td>\n",
       "      <td>2014</td>\n",
       "      <td>29000</td>\n",
       "      <td>4</td>\n",
       "      <td>1</td>\n",
       "      <td>1</td>\n",
       "      <td>5.0</td>\n",
       "      <td>11</td>\n",
       "      <td>81</td>\n",
       "      <td>1</td>\n",
       "      <td>18.50</td>\n",
       "      <td>1197</td>\n",
       "      <td>82.85</td>\n",
       "      <td>0</td>\n",
       "    </tr>\n",
       "  </tbody>\n",
       "</table>\n",
       "</div>"
      ],
      "text/plain": [
       "      Location  Year  Kilometers_Driven  Fuel_Type  Transmission  Owner_Type  \\\n",
       "6018         4  2014              40929          0             1           1   \n",
       "6019         3  2013              54493          4             1           2   \n",
       "6020         9  2017              34000          1             1           1   \n",
       "6021         5  2012             139000          1             1           1   \n",
       "6022         9  2014              29000          4             1           1   \n",
       "\n",
       "      Seats  company  model  has_expired  mileage  engine   power  new_k  \n",
       "6018    4.0       19    111            1    32.26     998   58.20     29  \n",
       "6019    5.0       19    111            1    24.70     796   47.30     93  \n",
       "6020    7.0       30    205            0    13.68    2393  147.80      0  \n",
       "6021    5.0       30    203            1    23.59    1364   67.04      0  \n",
       "6022    5.0       11     81            1    18.50    1197   82.85      0  "
      ]
     },
     "execution_count": 104,
     "metadata": {},
     "output_type": "execute_result"
    }
   ],
   "source": [
    "## test data view\n",
    "test.head()"
   ]
  },
  {
   "cell_type": "markdown",
   "metadata": {},
   "source": [
    "#### Mean encoding the test features"
   ]
  },
  {
   "cell_type": "code",
   "execution_count": 105,
   "metadata": {},
   "outputs": [],
   "source": [
    "rename_dict = X.set_index('Fuel_Type').to_dict()['fuel_target_enc']\n",
    "test.Fuel_Type=test.Fuel_Type.map(rename_dict)"
   ]
  },
  {
   "cell_type": "code",
   "execution_count": 109,
   "metadata": {},
   "outputs": [
    {
     "name": "stderr",
     "output_type": "stream",
     "text": [
      "C:\\Users\\HP\\Anaconda3\\lib\\site-packages\\pandas\\core\\generic.py:4401: SettingWithCopyWarning: \n",
      "A value is trying to be set on a copy of a slice from a DataFrame.\n",
      "Try using .loc[row_indexer,col_indexer] = value instead\n",
      "\n",
      "See the caveats in the documentation: http://pandas.pydata.org/pandas-docs/stable/indexing.html#indexing-view-versus-copy\n",
      "  self[name] = value\n"
     ]
    }
   ],
   "source": [
    "rename_dict = X.set_index('Location').to_dict()['location_target_enc']\n",
    "test.Location=test.Location.map(rename_dict)"
   ]
  },
  {
   "cell_type": "code",
   "execution_count": 110,
   "metadata": {},
   "outputs": [
    {
     "name": "stderr",
     "output_type": "stream",
     "text": [
      "C:\\Users\\HP\\Anaconda3\\lib\\site-packages\\pandas\\core\\generic.py:4401: SettingWithCopyWarning: \n",
      "A value is trying to be set on a copy of a slice from a DataFrame.\n",
      "Try using .loc[row_indexer,col_indexer] = value instead\n",
      "\n",
      "See the caveats in the documentation: http://pandas.pydata.org/pandas-docs/stable/indexing.html#indexing-view-versus-copy\n",
      "  self[name] = value\n"
     ]
    }
   ],
   "source": [
    "rename_dict = X.set_index('Transmission').to_dict()['transmission_target_enc']\n",
    "test.Transmission=test.Transmission.map(rename_dict)"
   ]
  },
  {
   "cell_type": "code",
   "execution_count": 112,
   "metadata": {},
   "outputs": [
    {
     "name": "stderr",
     "output_type": "stream",
     "text": [
      "C:\\Users\\HP\\Anaconda3\\lib\\site-packages\\pandas\\core\\generic.py:4401: SettingWithCopyWarning: \n",
      "A value is trying to be set on a copy of a slice from a DataFrame.\n",
      "Try using .loc[row_indexer,col_indexer] = value instead\n",
      "\n",
      "See the caveats in the documentation: http://pandas.pydata.org/pandas-docs/stable/indexing.html#indexing-view-versus-copy\n",
      "  self[name] = value\n"
     ]
    }
   ],
   "source": [
    "rename_dict = X.set_index('Owner_Type').to_dict()['owner_target_enc']\n",
    "test.Owner_Type=test.Owner_Type.map(rename_dict)"
   ]
  },
  {
   "cell_type": "code",
   "execution_count": 113,
   "metadata": {},
   "outputs": [
    {
     "name": "stderr",
     "output_type": "stream",
     "text": [
      "C:\\Users\\HP\\Anaconda3\\lib\\site-packages\\pandas\\core\\generic.py:4401: SettingWithCopyWarning: \n",
      "A value is trying to be set on a copy of a slice from a DataFrame.\n",
      "Try using .loc[row_indexer,col_indexer] = value instead\n",
      "\n",
      "See the caveats in the documentation: http://pandas.pydata.org/pandas-docs/stable/indexing.html#indexing-view-versus-copy\n",
      "  self[name] = value\n"
     ]
    }
   ],
   "source": [
    "rename_dict = X.set_index('Seats').to_dict()['seats_target_enc']\n",
    "test.Seats=test.Seats.map(rename_dict)"
   ]
  },
  {
   "cell_type": "code",
   "execution_count": 114,
   "metadata": {},
   "outputs": [
    {
     "name": "stderr",
     "output_type": "stream",
     "text": [
      "C:\\Users\\HP\\Anaconda3\\lib\\site-packages\\pandas\\core\\generic.py:4401: SettingWithCopyWarning: \n",
      "A value is trying to be set on a copy of a slice from a DataFrame.\n",
      "Try using .loc[row_indexer,col_indexer] = value instead\n",
      "\n",
      "See the caveats in the documentation: http://pandas.pydata.org/pandas-docs/stable/indexing.html#indexing-view-versus-copy\n",
      "  self[name] = value\n"
     ]
    }
   ],
   "source": [
    "rename_dict = X.set_index('company').to_dict()['company_target_enc']\n",
    "test.company=test.company.map(rename_dict)"
   ]
  },
  {
   "cell_type": "code",
   "execution_count": 115,
   "metadata": {},
   "outputs": [
    {
     "name": "stderr",
     "output_type": "stream",
     "text": [
      "C:\\Users\\HP\\Anaconda3\\lib\\site-packages\\pandas\\core\\generic.py:4401: SettingWithCopyWarning: \n",
      "A value is trying to be set on a copy of a slice from a DataFrame.\n",
      "Try using .loc[row_indexer,col_indexer] = value instead\n",
      "\n",
      "See the caveats in the documentation: http://pandas.pydata.org/pandas-docs/stable/indexing.html#indexing-view-versus-copy\n",
      "  self[name] = value\n"
     ]
    }
   ],
   "source": [
    "rename_dict = X.set_index('has_expired').to_dict()['exp_target_enc']\n",
    "test.has_expired=test.has_expired.map(rename_dict)"
   ]
  },
  {
   "cell_type": "code",
   "execution_count": 117,
   "metadata": {},
   "outputs": [
    {
     "name": "stderr",
     "output_type": "stream",
     "text": [
      "C:\\Users\\HP\\Anaconda3\\lib\\site-packages\\pandas\\core\\generic.py:4401: SettingWithCopyWarning: \n",
      "A value is trying to be set on a copy of a slice from a DataFrame.\n",
      "Try using .loc[row_indexer,col_indexer] = value instead\n",
      "\n",
      "See the caveats in the documentation: http://pandas.pydata.org/pandas-docs/stable/indexing.html#indexing-view-versus-copy\n",
      "  self[name] = value\n"
     ]
    }
   ],
   "source": [
    "rename_dict = X.set_index('Year').to_dict()['year_target_enc']\n",
    "test.Year=test.Year.map(rename_dict)"
   ]
  },
  {
   "cell_type": "code",
   "execution_count": 118,
   "metadata": {},
   "outputs": [
    {
     "name": "stderr",
     "output_type": "stream",
     "text": [
      "C:\\Users\\HP\\Anaconda3\\lib\\site-packages\\pandas\\core\\generic.py:4401: SettingWithCopyWarning: \n",
      "A value is trying to be set on a copy of a slice from a DataFrame.\n",
      "Try using .loc[row_indexer,col_indexer] = value instead\n",
      "\n",
      "See the caveats in the documentation: http://pandas.pydata.org/pandas-docs/stable/indexing.html#indexing-view-versus-copy\n",
      "  self[name] = value\n"
     ]
    }
   ],
   "source": [
    "rename_dict = X.set_index('model').to_dict()['model_target_enc']\n",
    "test.model=test.model.map(rename_dict)"
   ]
  },
  {
   "cell_type": "code",
   "execution_count": 119,
   "metadata": {},
   "outputs": [
    {
     "data": {
      "text/html": [
       "<div>\n",
       "<style scoped>\n",
       "    .dataframe tbody tr th:only-of-type {\n",
       "        vertical-align: middle;\n",
       "    }\n",
       "\n",
       "    .dataframe tbody tr th {\n",
       "        vertical-align: top;\n",
       "    }\n",
       "\n",
       "    .dataframe thead th {\n",
       "        text-align: right;\n",
       "    }\n",
       "</style>\n",
       "<table border=\"1\" class=\"dataframe\">\n",
       "  <thead>\n",
       "    <tr style=\"text-align: right;\">\n",
       "      <th></th>\n",
       "      <th>Location</th>\n",
       "      <th>Year</th>\n",
       "      <th>Kilometers_Driven</th>\n",
       "      <th>Fuel_Type</th>\n",
       "      <th>Transmission</th>\n",
       "      <th>Owner_Type</th>\n",
       "      <th>Seats</th>\n",
       "      <th>company</th>\n",
       "      <th>model</th>\n",
       "      <th>has_expired</th>\n",
       "      <th>mileage</th>\n",
       "      <th>engine</th>\n",
       "      <th>power</th>\n",
       "      <th>new_k</th>\n",
       "    </tr>\n",
       "  </thead>\n",
       "  <tbody>\n",
       "    <tr>\n",
       "      <th>6018</th>\n",
       "      <td>9.330000</td>\n",
       "      <td>9.643573</td>\n",
       "      <td>40929</td>\n",
       "      <td>3.473043</td>\n",
       "      <td>5.328809</td>\n",
       "      <td>9.954673</td>\n",
       "      <td>20.450779</td>\n",
       "      <td>4.541807</td>\n",
       "      <td>2.497768</td>\n",
       "      <td>8.743045</td>\n",
       "      <td>32.26</td>\n",
       "      <td>998</td>\n",
       "      <td>58.20</td>\n",
       "      <td>29</td>\n",
       "    </tr>\n",
       "    <tr>\n",
       "      <th>6019</th>\n",
       "      <td>15.178324</td>\n",
       "      <td>8.294990</td>\n",
       "      <td>54493</td>\n",
       "      <td>5.666791</td>\n",
       "      <td>5.328809</td>\n",
       "      <td>7.723660</td>\n",
       "      <td>8.492256</td>\n",
       "      <td>4.541807</td>\n",
       "      <td>2.497768</td>\n",
       "      <td>8.743045</td>\n",
       "      <td>24.70</td>\n",
       "      <td>796</td>\n",
       "      <td>47.30</td>\n",
       "      <td>93</td>\n",
       "    </tr>\n",
       "    <tr>\n",
       "      <th>6020</th>\n",
       "      <td>9.473553</td>\n",
       "      <td>13.812505</td>\n",
       "      <td>34000</td>\n",
       "      <td>12.876555</td>\n",
       "      <td>5.328809</td>\n",
       "      <td>9.954673</td>\n",
       "      <td>14.839834</td>\n",
       "      <td>11.599853</td>\n",
       "      <td>12.196739</td>\n",
       "      <td>14.277300</td>\n",
       "      <td>13.68</td>\n",
       "      <td>2393</td>\n",
       "      <td>147.80</td>\n",
       "      <td>0</td>\n",
       "    </tr>\n",
       "    <tr>\n",
       "      <th>6021</th>\n",
       "      <td>9.626222</td>\n",
       "      <td>7.397407</td>\n",
       "      <td>139000</td>\n",
       "      <td>12.876555</td>\n",
       "      <td>5.328809</td>\n",
       "      <td>9.954673</td>\n",
       "      <td>8.492256</td>\n",
       "      <td>11.599853</td>\n",
       "      <td>4.180800</td>\n",
       "      <td>8.743045</td>\n",
       "      <td>23.59</td>\n",
       "      <td>1364</td>\n",
       "      <td>67.04</td>\n",
       "      <td>0</td>\n",
       "    </tr>\n",
       "    <tr>\n",
       "      <th>6022</th>\n",
       "      <td>9.473553</td>\n",
       "      <td>9.643573</td>\n",
       "      <td>29000</td>\n",
       "      <td>5.666791</td>\n",
       "      <td>5.328809</td>\n",
       "      <td>9.954673</td>\n",
       "      <td>8.492256</td>\n",
       "      <td>5.264588</td>\n",
       "      <td>5.019744</td>\n",
       "      <td>8.743045</td>\n",
       "      <td>18.50</td>\n",
       "      <td>1197</td>\n",
       "      <td>82.85</td>\n",
       "      <td>0</td>\n",
       "    </tr>\n",
       "  </tbody>\n",
       "</table>\n",
       "</div>"
      ],
      "text/plain": [
       "       Location       Year  Kilometers_Driven  Fuel_Type  Transmission  \\\n",
       "6018   9.330000   9.643573              40929   3.473043      5.328809   \n",
       "6019  15.178324   8.294990              54493   5.666791      5.328809   \n",
       "6020   9.473553  13.812505              34000  12.876555      5.328809   \n",
       "6021   9.626222   7.397407             139000  12.876555      5.328809   \n",
       "6022   9.473553   9.643573              29000   5.666791      5.328809   \n",
       "\n",
       "      Owner_Type      Seats    company      model  has_expired  mileage  \\\n",
       "6018    9.954673  20.450779   4.541807   2.497768     8.743045    32.26   \n",
       "6019    7.723660   8.492256   4.541807   2.497768     8.743045    24.70   \n",
       "6020    9.954673  14.839834  11.599853  12.196739    14.277300    13.68   \n",
       "6021    9.954673   8.492256  11.599853   4.180800     8.743045    23.59   \n",
       "6022    9.954673   8.492256   5.264588   5.019744     8.743045    18.50   \n",
       "\n",
       "      engine   power  new_k  \n",
       "6018     998   58.20     29  \n",
       "6019     796   47.30     93  \n",
       "6020    2393  147.80      0  \n",
       "6021    1364   67.04      0  \n",
       "6022    1197   82.85      0  "
      ]
     },
     "execution_count": 119,
     "metadata": {},
     "output_type": "execute_result"
    }
   ],
   "source": [
    "test.head()"
   ]
  },
  {
   "cell_type": "code",
   "execution_count": 120,
   "metadata": {},
   "outputs": [
    {
     "data": {
      "text/plain": [
       "(1234, 14)"
      ]
     },
     "execution_count": 120,
     "metadata": {},
     "output_type": "execute_result"
    }
   ],
   "source": [
    "test.shape"
   ]
  },
  {
   "cell_type": "code",
   "execution_count": 121,
   "metadata": {},
   "outputs": [
    {
     "name": "stdout",
     "output_type": "stream",
     "text": [
      "<class 'pandas.core.frame.DataFrame'>\n",
      "RangeIndex: 1234 entries, 6018 to 7251\n",
      "Data columns (total 14 columns):\n",
      "Location             1234 non-null float64\n",
      "Year                 1233 non-null float64\n",
      "Kilometers_Driven    1234 non-null int64\n",
      "Fuel_Type            1234 non-null float64\n",
      "Transmission         1234 non-null float64\n",
      "Owner_Type           1234 non-null float64\n",
      "Seats                1234 non-null float64\n",
      "company              1230 non-null float64\n",
      "model                1224 non-null float64\n",
      "has_expired          1234 non-null float64\n",
      "mileage              1234 non-null float64\n",
      "engine               1234 non-null int64\n",
      "power                1234 non-null float64\n",
      "new_k                1234 non-null int64\n",
      "dtypes: float64(11), int64(3)\n",
      "memory usage: 135.1 KB\n"
     ]
    }
   ],
   "source": [
    "test.info()"
   ]
  },
  {
   "cell_type": "code",
   "execution_count": 122,
   "metadata": {},
   "outputs": [
    {
     "name": "stderr",
     "output_type": "stream",
     "text": [
      "C:\\Users\\HP\\Anaconda3\\lib\\site-packages\\pandas\\core\\generic.py:4401: SettingWithCopyWarning: \n",
      "A value is trying to be set on a copy of a slice from a DataFrame.\n",
      "Try using .loc[row_indexer,col_indexer] = value instead\n",
      "\n",
      "See the caveats in the documentation: http://pandas.pydata.org/pandas-docs/stable/indexing.html#indexing-view-versus-copy\n",
      "  self[name] = value\n"
     ]
    }
   ],
   "source": [
    "test.Year=test.Year.fillna(value=1.7433)\n",
    "test.company=test.company.fillna(value=test.company.mean())\n",
    "test.model=test.model.fillna(value=test.model.mean())"
   ]
  },
  {
   "cell_type": "code",
   "execution_count": 127,
   "metadata": {},
   "outputs": [
    {
     "name": "stderr",
     "output_type": "stream",
     "text": [
      "C:\\Users\\HP\\Anaconda3\\lib\\site-packages\\ipykernel_launcher.py:1: SettingWithCopyWarning: \n",
      "A value is trying to be set on a copy of a slice from a DataFrame.\n",
      "Try using .loc[row_indexer,col_indexer] = value instead\n",
      "\n",
      "See the caveats in the documentation: http://pandas.pydata.org/pandas-docs/stable/indexing.html#indexing-view-versus-copy\n",
      "  \"\"\"Entry point for launching an IPython kernel.\n"
     ]
    }
   ],
   "source": [
    "test['fuel_target_enc']=test.Fuel_Type"
   ]
  },
  {
   "cell_type": "code",
   "execution_count": 128,
   "metadata": {},
   "outputs": [
    {
     "name": "stderr",
     "output_type": "stream",
     "text": [
      "C:\\Users\\HP\\Anaconda3\\lib\\site-packages\\ipykernel_launcher.py:1: SettingWithCopyWarning: \n",
      "A value is trying to be set on a copy of a slice from a DataFrame.\n",
      "Try using .loc[row_indexer,col_indexer] = value instead\n",
      "\n",
      "See the caveats in the documentation: http://pandas.pydata.org/pandas-docs/stable/indexing.html#indexing-view-versus-copy\n",
      "  \"\"\"Entry point for launching an IPython kernel.\n",
      "C:\\Users\\HP\\Anaconda3\\lib\\site-packages\\ipykernel_launcher.py:2: SettingWithCopyWarning: \n",
      "A value is trying to be set on a copy of a slice from a DataFrame.\n",
      "Try using .loc[row_indexer,col_indexer] = value instead\n",
      "\n",
      "See the caveats in the documentation: http://pandas.pydata.org/pandas-docs/stable/indexing.html#indexing-view-versus-copy\n",
      "  \n",
      "C:\\Users\\HP\\Anaconda3\\lib\\site-packages\\ipykernel_launcher.py:3: SettingWithCopyWarning: \n",
      "A value is trying to be set on a copy of a slice from a DataFrame.\n",
      "Try using .loc[row_indexer,col_indexer] = value instead\n",
      "\n",
      "See the caveats in the documentation: http://pandas.pydata.org/pandas-docs/stable/indexing.html#indexing-view-versus-copy\n",
      "  This is separate from the ipykernel package so we can avoid doing imports until\n",
      "C:\\Users\\HP\\Anaconda3\\lib\\site-packages\\ipykernel_launcher.py:4: SettingWithCopyWarning: \n",
      "A value is trying to be set on a copy of a slice from a DataFrame.\n",
      "Try using .loc[row_indexer,col_indexer] = value instead\n",
      "\n",
      "See the caveats in the documentation: http://pandas.pydata.org/pandas-docs/stable/indexing.html#indexing-view-versus-copy\n",
      "  after removing the cwd from sys.path.\n",
      "C:\\Users\\HP\\Anaconda3\\lib\\site-packages\\ipykernel_launcher.py:5: SettingWithCopyWarning: \n",
      "A value is trying to be set on a copy of a slice from a DataFrame.\n",
      "Try using .loc[row_indexer,col_indexer] = value instead\n",
      "\n",
      "See the caveats in the documentation: http://pandas.pydata.org/pandas-docs/stable/indexing.html#indexing-view-versus-copy\n",
      "  \"\"\"\n",
      "C:\\Users\\HP\\Anaconda3\\lib\\site-packages\\ipykernel_launcher.py:6: SettingWithCopyWarning: \n",
      "A value is trying to be set on a copy of a slice from a DataFrame.\n",
      "Try using .loc[row_indexer,col_indexer] = value instead\n",
      "\n",
      "See the caveats in the documentation: http://pandas.pydata.org/pandas-docs/stable/indexing.html#indexing-view-versus-copy\n",
      "  \n",
      "C:\\Users\\HP\\Anaconda3\\lib\\site-packages\\ipykernel_launcher.py:7: SettingWithCopyWarning: \n",
      "A value is trying to be set on a copy of a slice from a DataFrame.\n",
      "Try using .loc[row_indexer,col_indexer] = value instead\n",
      "\n",
      "See the caveats in the documentation: http://pandas.pydata.org/pandas-docs/stable/indexing.html#indexing-view-versus-copy\n",
      "  import sys\n",
      "C:\\Users\\HP\\Anaconda3\\lib\\site-packages\\ipykernel_launcher.py:8: SettingWithCopyWarning: \n",
      "A value is trying to be set on a copy of a slice from a DataFrame.\n",
      "Try using .loc[row_indexer,col_indexer] = value instead\n",
      "\n",
      "See the caveats in the documentation: http://pandas.pydata.org/pandas-docs/stable/indexing.html#indexing-view-versus-copy\n",
      "  \n"
     ]
    }
   ],
   "source": [
    "test['owner_target_enc']=test.Owner_Type\n",
    "test['company_target_enc']=test.company\n",
    "test['location_target_enc']=test.Location\n",
    "test['year_target_enc']=test.Year\n",
    "test['transmission_target_enc']=test.Transmission\n",
    "test['seats_target_enc']=test.Seats\n",
    "test['exp_target_enc']=test.has_expired\n",
    "test['model_target_enc']=test.model\n"
   ]
  },
  {
   "cell_type": "code",
   "execution_count": 130,
   "metadata": {},
   "outputs": [
    {
     "name": "stderr",
     "output_type": "stream",
     "text": [
      "C:\\Users\\HP\\Anaconda3\\lib\\site-packages\\pandas\\core\\frame.py:3694: SettingWithCopyWarning: \n",
      "A value is trying to be set on a copy of a slice from a DataFrame\n",
      "\n",
      "See the caveats in the documentation: http://pandas.pydata.org/pandas-docs/stable/indexing.html#indexing-view-versus-copy\n",
      "  errors=errors)\n"
     ]
    }
   ],
   "source": [
    "test.drop(['Location','Year','Fuel_Type','Owner_Type','company','Transmission','Seats','has_expired','model'],axis=1,inplace=True)"
   ]
  },
  {
   "cell_type": "code",
   "execution_count": 131,
   "metadata": {},
   "outputs": [
    {
     "data": {
      "text/html": [
       "<div>\n",
       "<style scoped>\n",
       "    .dataframe tbody tr th:only-of-type {\n",
       "        vertical-align: middle;\n",
       "    }\n",
       "\n",
       "    .dataframe tbody tr th {\n",
       "        vertical-align: top;\n",
       "    }\n",
       "\n",
       "    .dataframe thead th {\n",
       "        text-align: right;\n",
       "    }\n",
       "</style>\n",
       "<table border=\"1\" class=\"dataframe\">\n",
       "  <thead>\n",
       "    <tr style=\"text-align: right;\">\n",
       "      <th></th>\n",
       "      <th>Kilometers_Driven</th>\n",
       "      <th>mileage</th>\n",
       "      <th>engine</th>\n",
       "      <th>power</th>\n",
       "      <th>new_k</th>\n",
       "      <th>fuel_target_enc</th>\n",
       "      <th>owner_target_enc</th>\n",
       "      <th>company_target_enc</th>\n",
       "      <th>location_target_enc</th>\n",
       "      <th>year_target_enc</th>\n",
       "      <th>transmission_target_enc</th>\n",
       "      <th>seats_target_enc</th>\n",
       "      <th>exp_target_enc</th>\n",
       "      <th>model_target_enc</th>\n",
       "    </tr>\n",
       "  </thead>\n",
       "  <tbody>\n",
       "    <tr>\n",
       "      <th>6018</th>\n",
       "      <td>40929</td>\n",
       "      <td>32.26</td>\n",
       "      <td>998</td>\n",
       "      <td>58.20</td>\n",
       "      <td>29</td>\n",
       "      <td>3.473043</td>\n",
       "      <td>9.954673</td>\n",
       "      <td>4.541807</td>\n",
       "      <td>9.330000</td>\n",
       "      <td>9.643573</td>\n",
       "      <td>5.328809</td>\n",
       "      <td>20.450779</td>\n",
       "      <td>8.743045</td>\n",
       "      <td>2.497768</td>\n",
       "    </tr>\n",
       "    <tr>\n",
       "      <th>6019</th>\n",
       "      <td>54493</td>\n",
       "      <td>24.70</td>\n",
       "      <td>796</td>\n",
       "      <td>47.30</td>\n",
       "      <td>93</td>\n",
       "      <td>5.666791</td>\n",
       "      <td>7.723660</td>\n",
       "      <td>4.541807</td>\n",
       "      <td>15.178324</td>\n",
       "      <td>8.294990</td>\n",
       "      <td>5.328809</td>\n",
       "      <td>8.492256</td>\n",
       "      <td>8.743045</td>\n",
       "      <td>2.497768</td>\n",
       "    </tr>\n",
       "    <tr>\n",
       "      <th>6020</th>\n",
       "      <td>34000</td>\n",
       "      <td>13.68</td>\n",
       "      <td>2393</td>\n",
       "      <td>147.80</td>\n",
       "      <td>0</td>\n",
       "      <td>12.876555</td>\n",
       "      <td>9.954673</td>\n",
       "      <td>11.599853</td>\n",
       "      <td>9.473553</td>\n",
       "      <td>13.812505</td>\n",
       "      <td>5.328809</td>\n",
       "      <td>14.839834</td>\n",
       "      <td>14.277300</td>\n",
       "      <td>12.196739</td>\n",
       "    </tr>\n",
       "    <tr>\n",
       "      <th>6021</th>\n",
       "      <td>139000</td>\n",
       "      <td>23.59</td>\n",
       "      <td>1364</td>\n",
       "      <td>67.04</td>\n",
       "      <td>0</td>\n",
       "      <td>12.876555</td>\n",
       "      <td>9.954673</td>\n",
       "      <td>11.599853</td>\n",
       "      <td>9.626222</td>\n",
       "      <td>7.397407</td>\n",
       "      <td>5.328809</td>\n",
       "      <td>8.492256</td>\n",
       "      <td>8.743045</td>\n",
       "      <td>4.180800</td>\n",
       "    </tr>\n",
       "    <tr>\n",
       "      <th>6022</th>\n",
       "      <td>29000</td>\n",
       "      <td>18.50</td>\n",
       "      <td>1197</td>\n",
       "      <td>82.85</td>\n",
       "      <td>0</td>\n",
       "      <td>5.666791</td>\n",
       "      <td>9.954673</td>\n",
       "      <td>5.264588</td>\n",
       "      <td>9.473553</td>\n",
       "      <td>9.643573</td>\n",
       "      <td>5.328809</td>\n",
       "      <td>8.492256</td>\n",
       "      <td>8.743045</td>\n",
       "      <td>5.019744</td>\n",
       "    </tr>\n",
       "  </tbody>\n",
       "</table>\n",
       "</div>"
      ],
      "text/plain": [
       "      Kilometers_Driven  mileage  engine   power  new_k  fuel_target_enc  \\\n",
       "6018              40929    32.26     998   58.20     29         3.473043   \n",
       "6019              54493    24.70     796   47.30     93         5.666791   \n",
       "6020              34000    13.68    2393  147.80      0        12.876555   \n",
       "6021             139000    23.59    1364   67.04      0        12.876555   \n",
       "6022              29000    18.50    1197   82.85      0         5.666791   \n",
       "\n",
       "      owner_target_enc  company_target_enc  location_target_enc  \\\n",
       "6018          9.954673            4.541807             9.330000   \n",
       "6019          7.723660            4.541807            15.178324   \n",
       "6020          9.954673           11.599853             9.473553   \n",
       "6021          9.954673           11.599853             9.626222   \n",
       "6022          9.954673            5.264588             9.473553   \n",
       "\n",
       "      year_target_enc  transmission_target_enc  seats_target_enc  \\\n",
       "6018         9.643573                 5.328809         20.450779   \n",
       "6019         8.294990                 5.328809          8.492256   \n",
       "6020        13.812505                 5.328809         14.839834   \n",
       "6021         7.397407                 5.328809          8.492256   \n",
       "6022         9.643573                 5.328809          8.492256   \n",
       "\n",
       "      exp_target_enc  model_target_enc  \n",
       "6018        8.743045          2.497768  \n",
       "6019        8.743045          2.497768  \n",
       "6020       14.277300         12.196739  \n",
       "6021        8.743045          4.180800  \n",
       "6022        8.743045          5.019744  "
      ]
     },
     "execution_count": 131,
     "metadata": {},
     "output_type": "execute_result"
    }
   ],
   "source": [
    "## Final testing data\n",
    "test.head()"
   ]
  },
  {
   "cell_type": "code",
   "execution_count": 132,
   "metadata": {},
   "outputs": [
    {
     "data": {
      "text/html": [
       "<div>\n",
       "<style scoped>\n",
       "    .dataframe tbody tr th:only-of-type {\n",
       "        vertical-align: middle;\n",
       "    }\n",
       "\n",
       "    .dataframe tbody tr th {\n",
       "        vertical-align: top;\n",
       "    }\n",
       "\n",
       "    .dataframe thead th {\n",
       "        text-align: right;\n",
       "    }\n",
       "</style>\n",
       "<table border=\"1\" class=\"dataframe\">\n",
       "  <thead>\n",
       "    <tr style=\"text-align: right;\">\n",
       "      <th></th>\n",
       "      <th>Kilometers_Driven</th>\n",
       "      <th>mileage</th>\n",
       "      <th>engine</th>\n",
       "      <th>power</th>\n",
       "      <th>new_k</th>\n",
       "      <th>fuel_target_enc</th>\n",
       "      <th>owner_target_enc</th>\n",
       "      <th>company_target_enc</th>\n",
       "      <th>location_target_enc</th>\n",
       "      <th>year_target_enc</th>\n",
       "      <th>transmission_target_enc</th>\n",
       "      <th>seats_target_enc</th>\n",
       "      <th>exp_target_enc</th>\n",
       "      <th>model_target_enc</th>\n",
       "    </tr>\n",
       "  </thead>\n",
       "  <tbody>\n",
       "    <tr>\n",
       "      <th>0</th>\n",
       "      <td>72000</td>\n",
       "      <td>26.60</td>\n",
       "      <td>998</td>\n",
       "      <td>58.16</td>\n",
       "      <td>0</td>\n",
       "      <td>3.670204</td>\n",
       "      <td>9.734647</td>\n",
       "      <td>4.508873</td>\n",
       "      <td>8.916895</td>\n",
       "      <td>5.583191</td>\n",
       "      <td>5.307179</td>\n",
       "      <td>8.296371</td>\n",
       "      <td>8.714744</td>\n",
       "      <td>2.862951</td>\n",
       "    </tr>\n",
       "    <tr>\n",
       "      <th>1</th>\n",
       "      <td>41000</td>\n",
       "      <td>19.67</td>\n",
       "      <td>1582</td>\n",
       "      <td>126.20</td>\n",
       "      <td>0</td>\n",
       "      <td>12.755169</td>\n",
       "      <td>9.734647</td>\n",
       "      <td>5.437851</td>\n",
       "      <td>6.569940</td>\n",
       "      <td>10.810441</td>\n",
       "      <td>5.307179</td>\n",
       "      <td>8.296371</td>\n",
       "      <td>8.714744</td>\n",
       "      <td>12.314684</td>\n",
       "    </tr>\n",
       "    <tr>\n",
       "      <th>2</th>\n",
       "      <td>46000</td>\n",
       "      <td>18.20</td>\n",
       "      <td>1199</td>\n",
       "      <td>88.70</td>\n",
       "      <td>0</td>\n",
       "      <td>5.524928</td>\n",
       "      <td>9.734647</td>\n",
       "      <td>5.421044</td>\n",
       "      <td>7.960734</td>\n",
       "      <td>6.687938</td>\n",
       "      <td>5.307179</td>\n",
       "      <td>8.296371</td>\n",
       "      <td>13.161160</td>\n",
       "      <td>6.007660</td>\n",
       "    </tr>\n",
       "    <tr>\n",
       "      <th>3</th>\n",
       "      <td>87000</td>\n",
       "      <td>20.77</td>\n",
       "      <td>1248</td>\n",
       "      <td>88.76</td>\n",
       "      <td>0</td>\n",
       "      <td>12.755169</td>\n",
       "      <td>9.734647</td>\n",
       "      <td>4.508873</td>\n",
       "      <td>7.960734</td>\n",
       "      <td>7.386825</td>\n",
       "      <td>5.307179</td>\n",
       "      <td>14.725047</td>\n",
       "      <td>8.714744</td>\n",
       "      <td>6.958929</td>\n",
       "    </tr>\n",
       "    <tr>\n",
       "      <th>4</th>\n",
       "      <td>40670</td>\n",
       "      <td>15.20</td>\n",
       "      <td>1968</td>\n",
       "      <td>140.80</td>\n",
       "      <td>70</td>\n",
       "      <td>12.755169</td>\n",
       "      <td>7.676917</td>\n",
       "      <td>25.422818</td>\n",
       "      <td>14.604500</td>\n",
       "      <td>8.809942</td>\n",
       "      <td>19.573368</td>\n",
       "      <td>8.296371</td>\n",
       "      <td>8.714744</td>\n",
       "      <td>18.757313</td>\n",
       "    </tr>\n",
       "  </tbody>\n",
       "</table>\n",
       "</div>"
      ],
      "text/plain": [
       "   Kilometers_Driven  mileage  engine   power  new_k  fuel_target_enc  \\\n",
       "0              72000    26.60     998   58.16      0         3.670204   \n",
       "1              41000    19.67    1582  126.20      0        12.755169   \n",
       "2              46000    18.20    1199   88.70      0         5.524928   \n",
       "3              87000    20.77    1248   88.76      0        12.755169   \n",
       "4              40670    15.20    1968  140.80     70        12.755169   \n",
       "\n",
       "   owner_target_enc  company_target_enc  location_target_enc  year_target_enc  \\\n",
       "0          9.734647            4.508873             8.916895         5.583191   \n",
       "1          9.734647            5.437851             6.569940        10.810441   \n",
       "2          9.734647            5.421044             7.960734         6.687938   \n",
       "3          9.734647            4.508873             7.960734         7.386825   \n",
       "4          7.676917           25.422818            14.604500         8.809942   \n",
       "\n",
       "   transmission_target_enc  seats_target_enc  exp_target_enc  model_target_enc  \n",
       "0                 5.307179          8.296371        8.714744          2.862951  \n",
       "1                 5.307179          8.296371        8.714744         12.314684  \n",
       "2                 5.307179          8.296371       13.161160          6.007660  \n",
       "3                 5.307179         14.725047        8.714744          6.958929  \n",
       "4                19.573368          8.296371        8.714744         18.757313  "
      ]
     },
     "execution_count": 132,
     "metadata": {},
     "output_type": "execute_result"
    }
   ],
   "source": [
    "## final training data\n",
    "new_X.head()"
   ]
  },
  {
   "cell_type": "code",
   "execution_count": 133,
   "metadata": {},
   "outputs": [],
   "source": [
    "## Importing gradient boosting,fitting and predicting.\n",
    "gb=GradientBoostingRegressor(n_estimators=500,learning_rate=0.1,max_depth=5)\n",
    "gb.fit(new_X,y)\n",
    "gb_pred=gb.predict(test)"
   ]
  },
  {
   "cell_type": "code",
   "execution_count": 134,
   "metadata": {},
   "outputs": [
    {
     "data": {
      "text/plain": [
       "array([ 2.67357102,  3.03980917, 17.30499553, ...,  3.09934336,\n",
       "        4.38265971, 17.78486766])"
      ]
     },
     "execution_count": 134,
     "metadata": {},
     "output_type": "execute_result"
    }
   ],
   "source": [
    "## Final prediction\n",
    "gb_pred"
   ]
  },
  {
   "cell_type": "code",
   "execution_count": 96,
   "metadata": {},
   "outputs": [],
   "source": [
    "#sub.Price=gb_pred\n",
    "#writer = 'output2_mean_enc_gb.xlsx'\n",
    "#sub.to_excel(writer,sheet_name='sheet20')"
   ]
  },
  {
   "cell_type": "code",
   "execution_count": 136,
   "metadata": {},
   "outputs": [],
   "source": [
    "from xgboost import XGBRegressor\n",
    "xgb=XGBRegressor(n_estimators=750,learning_rate=0.05,max_depth=5)\n",
    "xgb.fit(new_X,y)\n",
    "xgb_pred=xgb.predict(test)\n",
    "#sub.Price=xgb_pred\n",
    "#writer = 'output2_mean_enc_xgb.xlsx'\n",
    "#sub.to_excel(writer,sheet_name='sheet15')"
   ]
  },
  {
   "cell_type": "code",
   "execution_count": 137,
   "metadata": {},
   "outputs": [
    {
     "data": {
      "text/plain": [
       "array([ 2.8063858,  3.054585 , 16.979044 , ...,  2.9878216,  4.4241   ,\n",
       "       18.006674 ], dtype=float32)"
      ]
     },
     "execution_count": 137,
     "metadata": {},
     "output_type": "execute_result"
    }
   ],
   "source": [
    "## Final prediction by xgboost\n",
    "xgb_pred"
   ]
  },
  {
   "cell_type": "code",
   "execution_count": null,
   "metadata": {},
   "outputs": [],
   "source": []
  },
  {
   "cell_type": "code",
   "execution_count": null,
   "metadata": {},
   "outputs": [],
   "source": []
  },
  {
   "cell_type": "code",
   "execution_count": 116,
   "metadata": {},
   "outputs": [
    {
     "name": "stderr",
     "output_type": "stream",
     "text": [
      "C:\\Users\\HP\\Anaconda3\\lib\\site-packages\\scipy\\stats\\stats.py:1713: FutureWarning: Using a non-tuple sequence for multidimensional indexing is deprecated; use `arr[tuple(seq)]` instead of `arr[seq]`. In the future this will be interpreted as an array index, `arr[np.array(seq)]`, which will result either in an error or a different result.\n",
      "  return np.add.reduce(sorted[indexer] * weights, axis=axis) / sumval\n",
      "C:\\Users\\HP\\Anaconda3\\lib\\site-packages\\matplotlib\\axes\\_axes.py:6462: UserWarning: The 'normed' kwarg is deprecated, and has been replaced by the 'density' kwarg.\n",
      "  warnings.warn(\"The 'normed' kwarg is deprecated, and has been \"\n"
     ]
    },
    {
     "name": "stdout",
     "output_type": "stream",
     "text": [
      "\n",
      " mu = 9.47 and sigma = 11.16\n",
      "\n"
     ]
    },
    {
     "data": {
      "image/png": "[encoded data removed]",
      "text/plain": [
       "<Figure size 432x288 with 1 Axes>"
      ]
     },
     "metadata": {},
     "output_type": "display_data"
    }
   ],
   "source": [
    "'''(mu, sigma) = norm.fit(y)\n",
    "\n",
    "# 1. Plot Sale Price\n",
    "sns.distplot(y);\n",
    "plt.ylabel('Frequency')\n",
    "plt.title('SalePrice distribution')\n",
    "plt.legend(['Normal dist. ($\\mu=$ {:.2f} and $\\sigma=$ {:.2f} )'.format(mu, sigma)],\n",
    "            loc='best')\n",
    "\n",
    "# Get the fitted parameters used by the function\n",
    "print( '\\n mu = {:.2f} and sigma = {:.2f}\\n'.format(mu, sigma))'''"
   ]
  },
  {
   "cell_type": "code",
   "execution_count": 118,
   "metadata": {},
   "outputs": [
    {
     "data": {
      "image/png": "[encoded data removed]",
      "text/plain": [
       "<Figure size 432x288 with 1 Axes>"
      ]
     },
     "metadata": {},
     "output_type": "display_data"
    }
   ],
   "source": [
    "\"\"\"from scipy.stats import probplot\n",
    "import stats\n",
    "import matplotlib.pyplot as plt\n",
    "fig = plt.figure()\n",
    "res = probplot(y, plot=plt)\n",
    "plt.show()\"\"\""
   ]
  },
  {
   "cell_type": "code",
   "execution_count": 119,
   "metadata": {},
   "outputs": [],
   "source": [
    "yy=np.log1p(y)"
   ]
  },
  {
   "cell_type": "code",
   "execution_count": 120,
   "metadata": {},
   "outputs": [
    {
     "name": "stderr",
     "output_type": "stream",
     "text": [
      "C:\\Users\\HP\\Anaconda3\\lib\\site-packages\\scipy\\stats\\stats.py:1713: FutureWarning: Using a non-tuple sequence for multidimensional indexing is deprecated; use `arr[tuple(seq)]` instead of `arr[seq]`. In the future this will be interpreted as an array index, `arr[np.array(seq)]`, which will result either in an error or a different result.\n",
      "  return np.add.reduce(sorted[indexer] * weights, axis=axis) / sumval\n",
      "C:\\Users\\HP\\Anaconda3\\lib\\site-packages\\matplotlib\\axes\\_axes.py:6462: UserWarning: The 'normed' kwarg is deprecated, and has been replaced by the 'density' kwarg.\n",
      "  warnings.warn(\"The 'normed' kwarg is deprecated, and has been \"\n"
     ]
    },
    {
     "data": {
      "text/plain": [
       "Text(0.5,1,'SalePrice distribution')"
      ]
     },
     "execution_count": 120,
     "metadata": {},
     "output_type": "execute_result"
    },
    {
     "data": {
      "image/png": "[encoded data removed]",
      "text/plain": [
       "<Figure size 432x288 with 1 Axes>"
      ]
     },
     "metadata": {},
     "output_type": "display_data"
    }
   ],
   "source": [
    "\"\"\"yy=np.log1p(y)\n",
    "sns.distplot(yy);\n",
    "plt.ylabel('Frequency')\n",
    "plt.title('SalePrice distribution')\"\"\""
   ]
  },
  {
   "cell_type": "code",
   "execution_count": 121,
   "metadata": {},
   "outputs": [
    {
     "data": {
      "image/png": "[encoded data removed]",
      "text/plain": [
       "<Figure size 432x288 with 1 Axes>"
      ]
     },
     "metadata": {},
     "output_type": "display_data"
    }
   ],
   "source": [
    "\"\"\"fig = plt.figure()\n",
    "res = probplot(yy, plot=plt)\n",
    "plt.show()\"\"\""
   ]
  },
  {
   "cell_type": "code",
   "execution_count": 122,
   "metadata": {},
   "outputs": [
    {
     "name": "stderr",
     "output_type": "stream",
     "text": [
      "C:\\Users\\HP\\Anaconda3\\lib\\site-packages\\scipy\\stats\\stats.py:1713: FutureWarning: Using a non-tuple sequence for multidimensional indexing is deprecated; use `arr[tuple(seq)]` instead of `arr[seq]`. In the future this will be interpreted as an array index, `arr[np.array(seq)]`, which will result either in an error or a different result.\n",
      "  return np.add.reduce(sorted[indexer] * weights, axis=axis) / sumval\n",
      "C:\\Users\\HP\\Anaconda3\\lib\\site-packages\\matplotlib\\axes\\_axes.py:6462: UserWarning: The 'normed' kwarg is deprecated, and has been replaced by the 'density' kwarg.\n",
      "  warnings.warn(\"The 'normed' kwarg is deprecated, and has been \"\n"
     ]
    },
    {
     "name": "stdout",
     "output_type": "stream",
     "text": [
      "\n",
      " mu = 9.48 and sigma = 3.56\n",
      "\n"
     ]
    },
    {
     "data": {
      "image/png": "[encoded data removed]",
      "text/plain": [
       "<Figure size 432x288 with 1 Axes>"
      ]
     },
     "metadata": {},
     "output_type": "display_data"
    }
   ],
   "source": [
    "\"\"\"(mu, sigma) = norm.fit(new_X.seats_target_enc)\n",
    "\n",
    "# 1. Plot Sale Price\n",
    "sns.distplot(new_X.seats_target_enc);\n",
    "plt.ylabel('Frequency')\n",
    "plt.title('new_X.seats_target_enc')\n",
    "plt.legend(['Normal dist. ($\\mu=$ {:.2f} and $\\sigma=$ {:.2f} )'.format(mu, sigma)],\n",
    "            loc='best')\n",
    "\n",
    "# Get the fitted parameters used by the function\n",
    "print( '\\n mu = {:.2f} and sigma = {:.2f}\\n'.format(mu, sigma))\"\"\""
   ]
  }
 ],
 "metadata": {
  "kernelspec": {
   "display_name": "Python 3",
   "language": "python",
   "name": "python3"
  },
  "language_info": {
   "codemirror_mode": {
    "name": "ipython",
    "version": 3
   },
   "file_extension": ".py",
   "mimetype": "text/x-python",
   "name": "python",
   "nbconvert_exporter": "python",
   "pygments_lexer": "ipython3",
   "version": "3.6.5"
  }
 },
 "nbformat": 4,
 "nbformat_minor": 2
}
